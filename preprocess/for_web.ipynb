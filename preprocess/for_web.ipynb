{
 "cells": [
  {
   "cell_type": "code",
   "execution_count": 3,
   "metadata": {},
   "outputs": [],
   "source": [
    "import pickle\n",
    "from sklearn.feature_extraction.text import TfidfVectorizer\n",
    "from sklearn.linear_model import SGDClassifier\n",
    "\n",
    "from main import preprocess, best_params\n",
    "from merge_df import table_to_dataframe\n",
    "from tokenization import tokenize"
   ]
  },
  {
   "cell_type": "markdown",
   "metadata": {},
   "source": [
    "Функция для кодирования разметки в числовые классы. **NB**: классы `neutral` и `speech` объединяются (чтобы было больше данных)"
   ]
  },
  {
   "cell_type": "code",
   "execution_count": 7,
   "metadata": {},
   "outputs": [],
   "source": [
    "def encode_labeling(label):\n",
    "    if label == 'negative':\n",
    "        label_id = -1\n",
    "    elif label == 'neutral':\n",
    "        label_id = 0\n",
    "    elif label == 'positive':\n",
    "        label_id = 1\n",
    "    elif label == 'speech':\n",
    "        label_id = 0\n",
    "\n",
    "    return label_id"
   ]
  },
  {
   "cell_type": "markdown",
   "metadata": {},
   "source": [
    "Загружем данные"
   ]
  },
  {
   "cell_type": "code",
   "execution_count": 4,
   "metadata": {},
   "outputs": [],
   "source": [
    "filepath = '../Data/data.xlsx'\n",
    "raw_df = table_to_dataframe(filepath)\n",
    "raw_df.dropna(axis=0, how='any', inplace=True)\n",
    "raw_df.drop(columns=['index'], inplace=True)"
   ]
  },
  {
   "cell_type": "markdown",
   "metadata": {},
   "source": [
    "Обрабатываем и проверяем, что не осталось пустых ячеек"
   ]
  },
  {
   "cell_type": "code",
   "execution_count": 8,
   "metadata": {},
   "outputs": [],
   "source": [
    "data = raw_df[raw_df['разметка'] != 'skip'].copy()\n",
    "data['tokenized'] = data['текст'].apply(tokenize)\n",
    "data['processed'] = [preprocess(tok, params=best_params) for tok in data['tokenized']]\n",
    "\n",
    "data.fillna('none',  inplace=True)\n",
    "assert data.isnull().values.any() == False"
   ]
  },
  {
   "cell_type": "markdown",
   "metadata": {},
   "source": [
    "Векторизуем и сохраняем векторайзер в файл"
   ]
  },
  {
   "cell_type": "code",
   "execution_count": 14,
   "metadata": {},
   "outputs": [],
   "source": [
    "corpus = data['processed']\n",
    "vectorizer = TfidfVectorizer(analyzer=str.split)\n",
    "X = vectorizer.fit_transform(corpus)\n",
    "\n",
    "with open('../web/vectorizer.pickle', 'wb') as f:\n",
    "    pickle.dump(vectorizer, f)"
   ]
  },
  {
   "cell_type": "markdown",
   "metadata": {},
   "source": [
    "Кодируем разметку, обучаем классификатор и сохраняем в файл"
   ]
  },
  {
   "cell_type": "code",
   "execution_count": 15,
   "metadata": {},
   "outputs": [],
   "source": [
    "SEED = 67\n",
    "\n",
    "y = data['разметка'].apply(encode_labeling)\n",
    "\n",
    "clf = SGDClassifier(random_state=SEED)\n",
    "clf.fit(X, y)\n",
    "\n",
    "with open('../web/classifier.pickle', 'wb') as f:\n",
    "    pickle.dump(clf, f)"
   ]
  }
 ],
 "metadata": {
  "kernelspec": {
   "display_name": "Python 3",
   "language": "python",
   "name": "python3"
  },
  "language_info": {
   "codemirror_mode": {
    "name": "ipython",
    "version": 3
   },
   "file_extension": ".py",
   "mimetype": "text/x-python",
   "name": "python",
   "nbconvert_exporter": "python",
   "pygments_lexer": "ipython3",
   "version": "3.7.3"
  }
 },
 "nbformat": 4,
 "nbformat_minor": 2
}
