{
 "cells": [
  {
   "cell_type": "code",
   "execution_count": 4,
   "metadata": {},
   "outputs": [
    {
     "name": "stdout",
     "output_type": "stream",
     "text": [
      "Collecting emoji\n",
      "  Downloading emoji-0.6.0.tar.gz (51 kB)\n",
      "Building wheels for collected packages: emoji\n",
      "  Building wheel for emoji (setup.py): started\n",
      "  Building wheel for emoji (setup.py): finished with status 'done'\n",
      "  Created wheel for emoji: filename=emoji-0.6.0-py3-none-any.whl size=49721 sha256=9cd96555cd3d6a03e39369b00b9deaa63abf0270852c953dc50c1a7999ca4125\n",
      "  Stored in directory: c:\\users\\user\\appdata\\local\\pip\\cache\\wheels\\4e\\bf\\6b\\2e22b3708d14bf6384f862db539b044d6931bd6b14ad3c9adc\n",
      "Successfully built emoji\n",
      "Installing collected packages: emoji\n",
      "Successfully installed emoji-0.6.0\n"
     ]
    }
   ],
   "source": [
    "# !python -m pip install emoji --upgrade"
   ]
  },
  {
   "cell_type": "code",
   "execution_count": 3,
   "metadata": {},
   "outputs": [],
   "source": [
    "import json\n",
    "from main import preprocess, make_meta\n",
    "from tokenization import tokenize\n",
    "from lemmatization import lemmatize"
   ]
  },
  {
   "cell_type": "code",
   "execution_count": 2,
   "metadata": {},
   "outputs": [
    {
     "data": {
      "text/plain": [
       "192"
      ]
     },
     "execution_count": 2,
     "metadata": {},
     "output_type": "execute_result"
    }
   ],
   "source": [
    "meta = make_meta()\n",
    "len(meta)"
   ]
  },
  {
   "cell_type": "markdown",
   "metadata": {},
   "source": [
    "### Пример использования на 1 вхождении"
   ]
  },
  {
   "cell_type": "code",
   "execution_count": 4,
   "metadata": {
    "scrolled": false
   },
   "outputs": [
    {
     "name": "stdout",
     "output_type": "stream",
     "text": [
      "username , какая у вас охёенная собака ! 😍 💤 😥\n",
      "username , какая у вас vulgar собака ! 😍 💤 😥\n",
      "username , какая у вас охёенная собака ! \n",
      "username , какая у вас vulgar собака !\n",
      "username , какая у вас охёенная собака ! emoji emoji emoji\n",
      "username , какая у вас vulgar собака ! emoji emoji emoji\n",
      "username , какая у вас охёенная собака ! pos_emoji neutral_emoji neg_emoji\n",
      "username , какая у вас vulgar собака ! pos_emoji neutral_emoji neg_emoji\n",
      "username , охёенная собака ! 😍 💤 😥\n",
      "username , vulgar собака ! 😍 💤 😥\n",
      "username , охёенная собака ! \n",
      "username , vulgar собака !\n",
      "username , охёенная собака ! emoji emoji emoji\n",
      "username , vulgar собака ! emoji emoji emoji\n",
      "username , охёенная собака ! pos_emoji neutral_emoji neg_emoji\n",
      "username , vulgar собака ! pos_emoji neutral_emoji neg_emoji\n",
      "username , какой у вы охёенный собака ! 😍 💤 😥\n",
      "username , какой у вы vulgar собака ! 😍 💤 😥\n",
      "username , какой у вы охёенный собака ! \n",
      "username , какой у вы vulgar собака !\n",
      "username , какой у вы охёенный собака ! emoji emoji emoji\n",
      "username , какой у вы vulgar собака ! emoji emoji emoji\n",
      "username , какой у вы охёенный собака ! pos_emoji neutral_emoji neg_emoji\n",
      "username , какой у вы vulgar собака ! pos_emoji neutral_emoji neg_emoji\n",
      "username , охёенный собака ! 😍 💤 😥\n",
      "username , vulgar собака ! 😍 💤 😥\n",
      "username , охёенный собака ! \n",
      "username , vulgar собака !\n",
      "username , охёенный собака ! emoji emoji emoji\n",
      "username , vulgar собака ! emoji emoji emoji\n",
      "username , охёенный собака ! pos_emoji neutral_emoji neg_emoji\n",
      "username , vulgar собака ! pos_emoji neutral_emoji neg_emoji\n",
      "username , какая у вас охёенная собака ! 😍 💤 😥\n",
      "username , какая у вас vulgar собака ! 😍 💤 😥\n",
      "username , какая у вас охёенная собака ! \n",
      "username , какая у вас vulgar собака !\n",
      "username , какая у вас охёенная собака ! emoji emoji emoji\n",
      "username , какая у вас vulgar собака ! emoji emoji emoji\n",
      "username , какая у вас охёенная собака ! pos_emoji neutral_emoji neg_emoji\n",
      "username , какая у вас vulgar собака ! pos_emoji neutral_emoji neg_emoji\n",
      "username , охёенная собака ! 😍 💤 😥\n",
      "username , vulgar собака ! 😍 💤 😥\n",
      "username , охёенная собака ! \n",
      "username , vulgar собака !\n",
      "username , охёенная собака ! emoji emoji emoji\n",
      "username , vulgar собака ! emoji emoji emoji\n",
      "username , охёенная собака ! pos_emoji neutral_emoji neg_emoji\n",
      "username , vulgar собака ! pos_emoji neutral_emoji neg_emoji\n",
      "username , какой у вы охёенный собака ! 😍 💤 😥\n",
      "username , какой у вы vulgar собака ! 😍 💤 😥\n",
      "username , какой у вы охёенный собака ! \n",
      "username , какой у вы vulgar собака !\n",
      "username , какой у вы охёенный собака ! emoji emoji emoji\n",
      "username , какой у вы vulgar собака ! emoji emoji emoji\n",
      "username , какой у вы охёенный собака ! pos_emoji neutral_emoji neg_emoji\n",
      "username , какой у вы vulgar собака ! pos_emoji neutral_emoji neg_emoji\n",
      "username , охёенный собака ! 😍 💤 😥\n",
      "username , vulgar собака ! 😍 💤 😥\n",
      "username , охёенный собака ! \n",
      "username , vulgar собака !\n",
      "username , охёенный собака ! emoji emoji emoji\n",
      "username , vulgar собака ! emoji emoji emoji\n",
      "username , охёенный собака ! pos_emoji neutral_emoji neg_emoji\n",
      "username , vulgar собака ! pos_emoji neutral_emoji neg_emoji\n",
      "username , какая у вас охёенная собака ! 😍 💤 😥\n",
      "username , какая у вас vulgar собака ! 😍 💤 😥\n",
      "username , какая у вас охёенная собака ! \n",
      "username , какая у вас vulgar собака !\n",
      "username , какая у вас охёенная собака ! emoji emoji emoji\n",
      "username , какая у вас vulgar собака ! emoji emoji emoji\n",
      "username , какая у вас охёенная собака ! pos_emoji neutral_emoji neg_emoji\n",
      "username , какая у вас vulgar собака ! pos_emoji neutral_emoji neg_emoji\n",
      "username , охёенная собака ! 😍 💤 😥\n",
      "username , vulgar собака ! 😍 💤 😥\n",
      "username , охёенная собака ! \n",
      "username , vulgar собака !\n",
      "username , охёенная собака ! emoji emoji emoji\n",
      "username , vulgar собака ! emoji emoji emoji\n",
      "username , охёенная собака ! pos_emoji neutral_emoji neg_emoji\n",
      "username , vulgar собака ! pos_emoji neutral_emoji neg_emoji\n",
      "username , какой у вы охёенный собака ! 😍 💤 😥\n",
      "username , какой у вы vulgar собака ! 😍 💤 😥\n",
      "username , какой у вы охёенный собака ! \n",
      "username , какой у вы vulgar собака !\n",
      "username , какой у вы охёенный собака ! emoji emoji emoji\n",
      "username , какой у вы vulgar собака ! emoji emoji emoji\n",
      "username , какой у вы охёенный собака ! pos_emoji neutral_emoji neg_emoji\n",
      "username , какой у вы vulgar собака ! pos_emoji neutral_emoji neg_emoji\n",
      "username , охёенный собака ! 😍 💤 😥\n",
      "username , vulgar собака ! 😍 💤 😥\n",
      "username , охёенный собака ! \n",
      "username , vulgar собака !\n",
      "username , охёенный собака ! emoji emoji emoji\n",
      "username , vulgar собака ! emoji emoji emoji\n",
      "username , охёенный собака ! pos_emoji neutral_emoji neg_emoji\n",
      "username , vulgar собака ! pos_emoji neutral_emoji neg_emoji\n",
      "username какая у вас охёенная собака 😍 💤 😥\n",
      "username какая у вас vulgar собака 😍 💤 😥\n",
      "username какая у вас охёенная собака \n",
      "username какая у вас vulgar собака\n",
      "username какая у вас охёенная собака emoji emoji emoji\n",
      "username какая у вас vulgar собака emoji emoji emoji\n",
      "username какая у вас охёенная собака pos_emoji neutral_emoji neg_emoji\n",
      "username какая у вас vulgar собака pos_emoji neutral_emoji neg_emoji\n",
      "username охёенная собака 😍 💤 😥\n",
      "username vulgar собака 😍 💤 😥\n",
      "username охёенная собака \n",
      "username vulgar собака\n",
      "username охёенная собака emoji emoji emoji\n",
      "username vulgar собака emoji emoji emoji\n",
      "username охёенная собака pos_emoji neutral_emoji neg_emoji\n",
      "username vulgar собака pos_emoji neutral_emoji neg_emoji\n",
      "username какой у вы охёенный собака 😍 💤 😥\n",
      "username какой у вы vulgar собака 😍 💤 😥\n",
      "username какой у вы охёенный собака \n",
      "username какой у вы vulgar собака\n",
      "username какой у вы охёенный собака emoji emoji emoji\n",
      "username какой у вы vulgar собака emoji emoji emoji\n",
      "username какой у вы охёенный собака pos_emoji neutral_emoji neg_emoji\n",
      "username какой у вы vulgar собака pos_emoji neutral_emoji neg_emoji\n",
      "username охёенный собака 😍 💤 😥\n",
      "username vulgar собака 😍 💤 😥\n",
      "username охёенный собака \n",
      "username vulgar собака\n",
      "username охёенный собака emoji emoji emoji\n",
      "username vulgar собака emoji emoji emoji\n",
      "username охёенный собака pos_emoji neutral_emoji neg_emoji\n",
      "username vulgar собака pos_emoji neutral_emoji neg_emoji\n",
      "username какая у вас охёенная собака 😍 💤 😥\n",
      "username какая у вас vulgar собака 😍 💤 😥\n",
      "username какая у вас охёенная собака \n",
      "username какая у вас vulgar собака\n",
      "username какая у вас охёенная собака emoji emoji emoji\n",
      "username какая у вас vulgar собака emoji emoji emoji\n",
      "username какая у вас охёенная собака pos_emoji neutral_emoji neg_emoji\n",
      "username какая у вас vulgar собака pos_emoji neutral_emoji neg_emoji\n",
      "username охёенная собака 😍 💤 😥\n",
      "username vulgar собака 😍 💤 😥\n",
      "username охёенная собака \n",
      "username vulgar собака\n",
      "username охёенная собака emoji emoji emoji\n",
      "username vulgar собака emoji emoji emoji\n",
      "username охёенная собака pos_emoji neutral_emoji neg_emoji\n",
      "username vulgar собака pos_emoji neutral_emoji neg_emoji\n",
      "username какой у вы охёенный собака 😍 💤 😥\n",
      "username какой у вы vulgar собака 😍 💤 😥\n",
      "username какой у вы охёенный собака \n",
      "username какой у вы vulgar собака\n",
      "username какой у вы охёенный собака emoji emoji emoji\n",
      "username какой у вы vulgar собака emoji emoji emoji\n",
      "username какой у вы охёенный собака pos_emoji neutral_emoji neg_emoji\n",
      "username какой у вы vulgar собака pos_emoji neutral_emoji neg_emoji\n",
      "username охёенный собака 😍 💤 😥\n",
      "username vulgar собака 😍 💤 😥\n",
      "username охёенный собака \n",
      "username vulgar собака\n",
      "username охёенный собака emoji emoji emoji\n",
      "username vulgar собака emoji emoji emoji\n",
      "username охёенный собака pos_emoji neutral_emoji neg_emoji\n",
      "username vulgar собака pos_emoji neutral_emoji neg_emoji\n",
      "username какая у вас охёенная собака 😍 💤 😥\n",
      "username какая у вас vulgar собака 😍 💤 😥\n",
      "username какая у вас охёенная собака \n",
      "username какая у вас vulgar собака\n",
      "username какая у вас охёенная собака emoji emoji emoji\n",
      "username какая у вас vulgar собака emoji emoji emoji\n",
      "username какая у вас охёенная собака pos_emoji neutral_emoji neg_emoji\n",
      "username какая у вас vulgar собака pos_emoji neutral_emoji neg_emoji\n",
      "username охёенная собака 😍 💤 😥\n",
      "username vulgar собака 😍 💤 😥\n",
      "username охёенная собака \n",
      "username vulgar собака\n",
      "username охёенная собака emoji emoji emoji\n",
      "username vulgar собака emoji emoji emoji\n",
      "username охёенная собака pos_emoji neutral_emoji neg_emoji\n",
      "username vulgar собака pos_emoji neutral_emoji neg_emoji\n",
      "username какой у вы охёенный собака 😍 💤 😥\n",
      "username какой у вы vulgar собака 😍 💤 😥\n"
     ]
    },
    {
     "name": "stdout",
     "output_type": "stream",
     "text": [
      "username какой у вы охёенный собака \n",
      "username какой у вы vulgar собака\n",
      "username какой у вы охёенный собака emoji emoji emoji\n",
      "username какой у вы vulgar собака emoji emoji emoji\n",
      "username какой у вы охёенный собака pos_emoji neutral_emoji neg_emoji\n",
      "username какой у вы vulgar собака pos_emoji neutral_emoji neg_emoji\n",
      "username охёенный собака 😍 💤 😥\n",
      "username vulgar собака 😍 💤 😥\n",
      "username охёенный собака \n",
      "username vulgar собака\n",
      "username охёенный собака emoji emoji emoji\n",
      "username vulgar собака emoji emoji emoji\n",
      "username охёенный собака pos_emoji neutral_emoji neg_emoji\n",
      "username vulgar собака pos_emoji neutral_emoji neg_emoji\n"
     ]
    }
   ],
   "source": [
    "test = '[id00000|имя], какая у вас ох*енная собака! 😍💤😥'\n",
    "tok = tokenize(test)\n",
    "\n",
    "for i, params in meta.items():\n",
    "    print(preprocess(tok, params=params))"
   ]
  },
  {
   "cell_type": "markdown",
   "metadata": {},
   "source": [
    "## Пример использования на всех данных"
   ]
  },
  {
   "cell_type": "code",
   "execution_count": 6,
   "metadata": {},
   "outputs": [],
   "source": [
    "import pandas as pd\n",
    "from tqdm.auto import tqdm\n",
    "tqdm.pandas()"
   ]
  },
  {
   "cell_type": "code",
   "execution_count": 7,
   "metadata": {},
   "outputs": [],
   "source": [
    "from merge_df import table_to_dataframe"
   ]
  },
  {
   "cell_type": "code",
   "execution_count": 27,
   "metadata": {},
   "outputs": [
    {
     "data": {
      "text/plain": [
       "4436"
      ]
     },
     "execution_count": 27,
     "metadata": {},
     "output_type": "execute_result"
    }
   ],
   "source": [
    "filepath = '../Data/Test_data.xlsx'\n",
    "raw_df = table_to_dataframe(filepath)\n",
    "raw_df.dropna(axis=0, how='any', inplace=True)\n",
    "raw_df.drop(columns=['index'], inplace=True)\n",
    "len(raw_df)"
   ]
  },
  {
   "cell_type": "code",
   "execution_count": 32,
   "metadata": {},
   "outputs": [
    {
     "data": {
      "text/plain": [
       "negative    436\n",
       "positive    367\n",
       "neutral     321\n",
       "speech      189\n",
       "Name: разметка, dtype: int64"
      ]
     },
     "execution_count": 32,
     "metadata": {},
     "output_type": "execute_result"
    }
   ],
   "source": [
    "df = raw_df[raw_df['разметка'] != 'skip'].copy()\n",
    "df['разметка'].value_counts()"
   ]
  },
  {
   "cell_type": "code",
   "execution_count": 33,
   "metadata": {},
   "outputs": [
    {
     "name": "stdout",
     "output_type": "stream",
     "text": [
      "итого вхождений: 1313\n"
     ]
    }
   ],
   "source": [
    "print('итого вхождений:', len(df))"
   ]
  },
  {
   "cell_type": "code",
   "execution_count": 34,
   "metadata": {},
   "outputs": [
    {
     "data": {
      "application/vnd.jupyter.widget-view+json": {
       "model_id": "4b8bf96963a44d4eadf4caae1e6e28db",
       "version_major": 2,
       "version_minor": 0
      },
      "text/plain": [
       "HBox(children=(HTML(value=''), FloatProgress(value=0.0, max=1313.0), HTML(value='')))"
      ]
     },
     "metadata": {},
     "output_type": "display_data"
    },
    {
     "name": "stdout",
     "output_type": "stream",
     "text": [
      "\n"
     ]
    },
    {
     "data": {
      "application/vnd.jupyter.widget-view+json": {
       "model_id": "34a8d5d122fb4bae8f578941031c9ca2",
       "version_major": 2,
       "version_minor": 0
      },
      "text/plain": [
       "HBox(children=(HTML(value=''), FloatProgress(value=0.0, max=1313.0), HTML(value='')))"
      ]
     },
     "metadata": {},
     "output_type": "display_data"
    },
    {
     "name": "stdout",
     "output_type": "stream",
     "text": [
      "\n"
     ]
    }
   ],
   "source": [
    "df['tokenized'] = df['текст'].progress_apply(tokenize)\n",
    "df['lemmatized'] = df['tokenized'].progress_apply(lemmatize)"
   ]
  },
  {
   "cell_type": "code",
   "execution_count": 35,
   "metadata": {},
   "outputs": [
    {
     "data": {
      "text/html": [
       "<div>\n",
       "<style scoped>\n",
       "    .dataframe tbody tr th:only-of-type {\n",
       "        vertical-align: middle;\n",
       "    }\n",
       "\n",
       "    .dataframe tbody tr th {\n",
       "        vertical-align: top;\n",
       "    }\n",
       "\n",
       "    .dataframe thead th {\n",
       "        text-align: right;\n",
       "    }\n",
       "</style>\n",
       "<table border=\"1\" class=\"dataframe\">\n",
       "  <thead>\n",
       "    <tr style=\"text-align: right;\">\n",
       "      <th></th>\n",
       "      <th>разметка</th>\n",
       "      <th>текст</th>\n",
       "      <th>контекст</th>\n",
       "      <th>community_id</th>\n",
       "      <th>community_type</th>\n",
       "      <th>tokenized</th>\n",
       "      <th>lemmatized</th>\n",
       "    </tr>\n",
       "  </thead>\n",
       "  <tbody>\n",
       "    <tr>\n",
       "      <th>0</th>\n",
       "      <td>speech</td>\n",
       "      <td>Спасибо!</td>\n",
       "      <td>post</td>\n",
       "      <td>1</td>\n",
       "      <td>nontoxic</td>\n",
       "      <td>спасибо !</td>\n",
       "      <td>спасибо !</td>\n",
       "    </tr>\n",
       "    <tr>\n",
       "      <th>1</th>\n",
       "      <td>speech</td>\n",
       "      <td>вау спасибо большое!!</td>\n",
       "      <td>post</td>\n",
       "      <td>1</td>\n",
       "      <td>nontoxic</td>\n",
       "      <td>вау спасибо большое ! !</td>\n",
       "      <td>вау спасибо большой ! !</td>\n",
       "    </tr>\n",
       "    <tr>\n",
       "      <th>2</th>\n",
       "      <td>speech</td>\n",
       "      <td>Супер! Благодарю🙏</td>\n",
       "      <td>post</td>\n",
       "      <td>1</td>\n",
       "      <td>nontoxic</td>\n",
       "      <td>супер ! благодарю 🙏</td>\n",
       "      <td>супер ! благодарить 🙏</td>\n",
       "    </tr>\n",
       "    <tr>\n",
       "      <th>3</th>\n",
       "      <td>speech</td>\n",
       "      <td>офигеть, спасибо!</td>\n",
       "      <td>post</td>\n",
       "      <td>1</td>\n",
       "      <td>nontoxic</td>\n",
       "      <td>офигеть , спасибо !</td>\n",
       "      <td>офигеть , спасибо !</td>\n",
       "    </tr>\n",
       "    <tr>\n",
       "      <th>4</th>\n",
       "      <td>speech</td>\n",
       "      <td>спасибо за проделанную работу 💙</td>\n",
       "      <td>post</td>\n",
       "      <td>1</td>\n",
       "      <td>nontoxic</td>\n",
       "      <td>спасибо за проделанную работу 💙</td>\n",
       "      <td>спасибо за проделать работа 💙</td>\n",
       "    </tr>\n",
       "  </tbody>\n",
       "</table>\n",
       "</div>"
      ],
      "text/plain": [
       "  разметка                            текст контекст  community_id  \\\n",
       "0   speech                         Спасибо!     post             1   \n",
       "1   speech            вау спасибо большое!!     post             1   \n",
       "2   speech                Супер! Благодарю🙏     post             1   \n",
       "3   speech                офигеть, спасибо!     post             1   \n",
       "4   speech  спасибо за проделанную работу 💙     post             1   \n",
       "\n",
       "  community_type                        tokenized  \\\n",
       "0       nontoxic                        спасибо !   \n",
       "1       nontoxic          вау спасибо большое ! !   \n",
       "2       nontoxic              супер ! благодарю 🙏   \n",
       "3       nontoxic              офигеть , спасибо !   \n",
       "4       nontoxic  спасибо за проделанную работу 💙   \n",
       "\n",
       "                      lemmatized  \n",
       "0                      спасибо !  \n",
       "1        вау спасибо большой ! !  \n",
       "2          супер ! благодарить 🙏  \n",
       "3            офигеть , спасибо !  \n",
       "4  спасибо за проделать работа 💙  "
      ]
     },
     "execution_count": 35,
     "metadata": {},
     "output_type": "execute_result"
    }
   ],
   "source": [
    "df.head()"
   ]
  },
  {
   "cell_type": "code",
   "execution_count": 36,
   "metadata": {},
   "outputs": [
    {
     "data": {
      "application/vnd.jupyter.widget-view+json": {
       "model_id": "4352bc0c454748d5bf8c809812d16e98",
       "version_major": 2,
       "version_minor": 0
      },
      "text/plain": [
       "HBox(children=(HTML(value=''), FloatProgress(value=0.0, max=192.0), HTML(value='')))"
      ]
     },
     "metadata": {},
     "output_type": "display_data"
    },
    {
     "name": "stdout",
     "output_type": "stream",
     "text": [
      "\n"
     ]
    }
   ],
   "source": [
    "for i, params in tqdm(meta.items()):\n",
    "    if params['lemmatization'] == 'no':\n",
    "        df[i] = [preprocess(tok, params=params) for tok in df['tokenized']]\n",
    "    if params['lemmatization'] == 'yes':\n",
    "        params['lemmatization'] = 'no'\n",
    "        df[i] = [preprocess(tok, params=params) for tok in df['lemmatized']]"
   ]
  },
  {
   "cell_type": "code",
   "execution_count": 37,
   "metadata": {},
   "outputs": [
    {
     "data": {
      "text/html": [
       "<div>\n",
       "<style scoped>\n",
       "    .dataframe tbody tr th:only-of-type {\n",
       "        vertical-align: middle;\n",
       "    }\n",
       "\n",
       "    .dataframe tbody tr th {\n",
       "        vertical-align: top;\n",
       "    }\n",
       "\n",
       "    .dataframe thead th {\n",
       "        text-align: right;\n",
       "    }\n",
       "</style>\n",
       "<table border=\"1\" class=\"dataframe\">\n",
       "  <thead>\n",
       "    <tr style=\"text-align: right;\">\n",
       "      <th></th>\n",
       "      <th>разметка</th>\n",
       "      <th>текст</th>\n",
       "      <th>контекст</th>\n",
       "      <th>community_id</th>\n",
       "      <th>community_type</th>\n",
       "      <th>tokenized</th>\n",
       "      <th>lemmatized</th>\n",
       "      <th>0</th>\n",
       "      <th>1</th>\n",
       "      <th>2</th>\n",
       "      <th>...</th>\n",
       "      <th>182</th>\n",
       "      <th>183</th>\n",
       "      <th>184</th>\n",
       "      <th>185</th>\n",
       "      <th>186</th>\n",
       "      <th>187</th>\n",
       "      <th>188</th>\n",
       "      <th>189</th>\n",
       "      <th>190</th>\n",
       "      <th>191</th>\n",
       "    </tr>\n",
       "  </thead>\n",
       "  <tbody>\n",
       "    <tr>\n",
       "      <th>1007</th>\n",
       "      <td>neutral</td>\n",
       "      <td>Фига булавка здоровая</td>\n",
       "      <td>post</td>\n",
       "      <td>2</td>\n",
       "      <td>nontoxic</td>\n",
       "      <td>фига булавка здоровая</td>\n",
       "      <td>фига булавка здоровый</td>\n",
       "      <td>фига булавка здоровая</td>\n",
       "      <td>фига булавка здоровая</td>\n",
       "      <td>фига булавка здоровая</td>\n",
       "      <td>...</td>\n",
       "      <td>фига булавка здоровый</td>\n",
       "      <td>фига булавка здоровый</td>\n",
       "      <td>фига булавка здоровый</td>\n",
       "      <td>фига булавка здоровый</td>\n",
       "      <td>фига булавка здоровый</td>\n",
       "      <td>фига булавка здоровый</td>\n",
       "      <td>фига булавка здоровый</td>\n",
       "      <td>фига булавка здоровый</td>\n",
       "      <td>фига булавка здоровый</td>\n",
       "      <td>фига булавка здоровый</td>\n",
       "    </tr>\n",
       "    <tr>\n",
       "      <th>1034</th>\n",
       "      <td>positive</td>\n",
       "      <td>Вау, какая интересная внешность.</td>\n",
       "      <td>post</td>\n",
       "      <td>2</td>\n",
       "      <td>nontoxic</td>\n",
       "      <td>вау , какая интересная внешность .</td>\n",
       "      <td>вау , какой интересный внешность .</td>\n",
       "      <td>вау , какая интересная внешность .</td>\n",
       "      <td>вау , какая интересная внешность .</td>\n",
       "      <td>вау , какая интересная внешность .</td>\n",
       "      <td>...</td>\n",
       "      <td>вау какой интересный внешность</td>\n",
       "      <td>вау какой интересный внешность</td>\n",
       "      <td>вау интересный внешность</td>\n",
       "      <td>вау интересный внешность</td>\n",
       "      <td>вау интересный внешность</td>\n",
       "      <td>вау интересный внешность</td>\n",
       "      <td>вау интересный внешность</td>\n",
       "      <td>вау интересный внешность</td>\n",
       "      <td>вау интересный внешность</td>\n",
       "      <td>вау интересный внешность</td>\n",
       "    </tr>\n",
       "    <tr>\n",
       "      <th>2982</th>\n",
       "      <td>neutral</td>\n",
       "      <td>[id113727070|Олег], в основном.. фильмы ужасов...</td>\n",
       "      <td>чот я такое же слышал про некий слешер, где уб...</td>\n",
       "      <td>3</td>\n",
       "      <td>toxic</td>\n",
       "      <td>username , в основном . . фильмы ужасов имеют ...</td>\n",
       "      <td>username , в основное . . фильм ужас иметь воз...</td>\n",
       "      <td>username , в основном . . фильмы ужасов имеют ...</td>\n",
       "      <td>username , в основном . . фильмы ужасов имеют ...</td>\n",
       "      <td>username , в основном . . фильмы ужасов имеют ...</td>\n",
       "      <td>...</td>\n",
       "      <td>username в основное фильм ужас иметь возрастно...</td>\n",
       "      <td>username в основное фильм ужас иметь возрастно...</td>\n",
       "      <td>username основное фильм ужас иметь возрастной ...</td>\n",
       "      <td>username основное фильм ужас иметь возрастной ...</td>\n",
       "      <td>username основное фильм ужас иметь возрастной ...</td>\n",
       "      <td>username основное фильм ужас иметь возрастной ...</td>\n",
       "      <td>username основное фильм ужас иметь возрастной ...</td>\n",
       "      <td>username основное фильм ужас иметь возрастной ...</td>\n",
       "      <td>username основное фильм ужас иметь возрастной ...</td>\n",
       "      <td>username основное фильм ужас иметь возрастной ...</td>\n",
       "    </tr>\n",
       "    <tr>\n",
       "      <th>597</th>\n",
       "      <td>positive</td>\n",
       "      <td>[id5098043|Елена], вау это один из лучших пабл...</td>\n",
       "      <td>[club167639293|альфия творит] !!! Она учится в...</td>\n",
       "      <td>2</td>\n",
       "      <td>nontoxic</td>\n",
       "      <td>username , вау это один из лучших пабликов кот...</td>\n",
       "      <td>username , вау это один из хороший пабликовый ...</td>\n",
       "      <td>username , вау это один из лучших пабликов кот...</td>\n",
       "      <td>username , вау это один из лучших пабликов кот...</td>\n",
       "      <td>username , вау это один из лучших пабликов кот...</td>\n",
       "      <td>...</td>\n",
       "      <td>username вау это один из хороший пабликовый ко...</td>\n",
       "      <td>username вау это один из хороший пабликовый ко...</td>\n",
       "      <td>username вау хороший пабликовый видеть шикарны...</td>\n",
       "      <td>username вау хороший пабликовый видеть шикарны...</td>\n",
       "      <td>username вау хороший пабликовый видеть шикарны...</td>\n",
       "      <td>username вау хороший пабликовый видеть шикарны...</td>\n",
       "      <td>username вау хороший пабликовый видеть шикарны...</td>\n",
       "      <td>username вау хороший пабликовый видеть шикарны...</td>\n",
       "      <td>username вау хороший пабликовый видеть шикарны...</td>\n",
       "      <td>username вау хороший пабликовый видеть шикарны...</td>\n",
       "    </tr>\n",
       "    <tr>\n",
       "      <th>6767</th>\n",
       "      <td>positive</td>\n",
       "      <td>От души поржал с коментов😄</td>\n",
       "      <td>Молодец, что взяла себя в руки и поняла, что к...</td>\n",
       "      <td>4</td>\n",
       "      <td>toxic</td>\n",
       "      <td>от души поржал с коментов 😄</td>\n",
       "      <td>от душа поржать с комент 😄</td>\n",
       "      <td>от души поржал с коментов 😄</td>\n",
       "      <td>от души поржал с коментов 😄</td>\n",
       "      <td>от души поржал с коментов</td>\n",
       "      <td>...</td>\n",
       "      <td>от душа поржать с комент pos_emoji</td>\n",
       "      <td>от душа поржать с комент pos_emoji</td>\n",
       "      <td>душа поржать комент 😄</td>\n",
       "      <td>душа поржать комент 😄</td>\n",
       "      <td>душа поржать комент</td>\n",
       "      <td>душа поржать комент</td>\n",
       "      <td>душа поржать комент emoji</td>\n",
       "      <td>душа поржать комент emoji</td>\n",
       "      <td>душа поржать комент pos_emoji</td>\n",
       "      <td>душа поржать комент pos_emoji</td>\n",
       "    </tr>\n",
       "  </tbody>\n",
       "</table>\n",
       "<p>5 rows × 199 columns</p>\n",
       "</div>"
      ],
      "text/plain": [
       "      разметка                                              текст  \\\n",
       "1007   neutral                              Фига булавка здоровая   \n",
       "1034  positive                   Вау, какая интересная внешность.   \n",
       "2982   neutral  [id113727070|Олег], в основном.. фильмы ужасов...   \n",
       "597   positive  [id5098043|Елена], вау это один из лучших пабл...   \n",
       "6767  positive                         От души поржал с коментов😄   \n",
       "\n",
       "                                               контекст  community_id  \\\n",
       "1007                                               post             2   \n",
       "1034                                               post             2   \n",
       "2982  чот я такое же слышал про некий слешер, где уб...             3   \n",
       "597   [club167639293|альфия творит] !!! Она учится в...             2   \n",
       "6767  Молодец, что взяла себя в руки и поняла, что к...             4   \n",
       "\n",
       "     community_type                                          tokenized  \\\n",
       "1007       nontoxic                              фига булавка здоровая   \n",
       "1034       nontoxic                 вау , какая интересная внешность .   \n",
       "2982          toxic  username , в основном . . фильмы ужасов имеют ...   \n",
       "597        nontoxic  username , вау это один из лучших пабликов кот...   \n",
       "6767          toxic                        от души поржал с коментов 😄   \n",
       "\n",
       "                                             lemmatized  \\\n",
       "1007                              фига булавка здоровый   \n",
       "1034                 вау , какой интересный внешность .   \n",
       "2982  username , в основное . . фильм ужас иметь воз...   \n",
       "597   username , вау это один из хороший пабликовый ...   \n",
       "6767                         от душа поржать с комент 😄   \n",
       "\n",
       "                                                      0  \\\n",
       "1007                              фига булавка здоровая   \n",
       "1034                 вау , какая интересная внешность .   \n",
       "2982  username , в основном . . фильмы ужасов имеют ...   \n",
       "597   username , вау это один из лучших пабликов кот...   \n",
       "6767                        от души поржал с коментов 😄   \n",
       "\n",
       "                                                      1  \\\n",
       "1007                              фига булавка здоровая   \n",
       "1034                 вау , какая интересная внешность .   \n",
       "2982  username , в основном . . фильмы ужасов имеют ...   \n",
       "597   username , вау это один из лучших пабликов кот...   \n",
       "6767                        от души поржал с коментов 😄   \n",
       "\n",
       "                                                      2  ...  \\\n",
       "1007                              фига булавка здоровая  ...   \n",
       "1034                 вау , какая интересная внешность .  ...   \n",
       "2982  username , в основном . . фильмы ужасов имеют ...  ...   \n",
       "597   username , вау это один из лучших пабликов кот...  ...   \n",
       "6767                         от души поржал с коментов   ...   \n",
       "\n",
       "                                                    182  \\\n",
       "1007                              фига булавка здоровый   \n",
       "1034                     вау какой интересный внешность   \n",
       "2982  username в основное фильм ужас иметь возрастно...   \n",
       "597   username вау это один из хороший пабликовый ко...   \n",
       "6767                 от душа поржать с комент pos_emoji   \n",
       "\n",
       "                                                    183  \\\n",
       "1007                              фига булавка здоровый   \n",
       "1034                     вау какой интересный внешность   \n",
       "2982  username в основное фильм ужас иметь возрастно...   \n",
       "597   username вау это один из хороший пабликовый ко...   \n",
       "6767                 от душа поржать с комент pos_emoji   \n",
       "\n",
       "                                                    184  \\\n",
       "1007                              фига булавка здоровый   \n",
       "1034                           вау интересный внешность   \n",
       "2982  username основное фильм ужас иметь возрастной ...   \n",
       "597   username вау хороший пабликовый видеть шикарны...   \n",
       "6767                              душа поржать комент 😄   \n",
       "\n",
       "                                                    185  \\\n",
       "1007                              фига булавка здоровый   \n",
       "1034                           вау интересный внешность   \n",
       "2982  username основное фильм ужас иметь возрастной ...   \n",
       "597   username вау хороший пабликовый видеть шикарны...   \n",
       "6767                              душа поржать комент 😄   \n",
       "\n",
       "                                                    186  \\\n",
       "1007                              фига булавка здоровый   \n",
       "1034                           вау интересный внешность   \n",
       "2982  username основное фильм ужас иметь возрастной ...   \n",
       "597   username вау хороший пабликовый видеть шикарны...   \n",
       "6767                               душа поржать комент    \n",
       "\n",
       "                                                    187  \\\n",
       "1007                              фига булавка здоровый   \n",
       "1034                           вау интересный внешность   \n",
       "2982  username основное фильм ужас иметь возрастной ...   \n",
       "597   username вау хороший пабликовый видеть шикарны...   \n",
       "6767                                душа поржать комент   \n",
       "\n",
       "                                                    188  \\\n",
       "1007                              фига булавка здоровый   \n",
       "1034                           вау интересный внешность   \n",
       "2982  username основное фильм ужас иметь возрастной ...   \n",
       "597   username вау хороший пабликовый видеть шикарны...   \n",
       "6767                          душа поржать комент emoji   \n",
       "\n",
       "                                                    189  \\\n",
       "1007                              фига булавка здоровый   \n",
       "1034                           вау интересный внешность   \n",
       "2982  username основное фильм ужас иметь возрастной ...   \n",
       "597   username вау хороший пабликовый видеть шикарны...   \n",
       "6767                          душа поржать комент emoji   \n",
       "\n",
       "                                                    190  \\\n",
       "1007                              фига булавка здоровый   \n",
       "1034                           вау интересный внешность   \n",
       "2982  username основное фильм ужас иметь возрастной ...   \n",
       "597   username вау хороший пабликовый видеть шикарны...   \n",
       "6767                      душа поржать комент pos_emoji   \n",
       "\n",
       "                                                    191  \n",
       "1007                              фига булавка здоровый  \n",
       "1034                           вау интересный внешность  \n",
       "2982  username основное фильм ужас иметь возрастной ...  \n",
       "597   username вау хороший пабликовый видеть шикарны...  \n",
       "6767                      душа поржать комент pos_emoji  \n",
       "\n",
       "[5 rows x 199 columns]"
      ]
     },
     "execution_count": 37,
     "metadata": {},
     "output_type": "execute_result"
    }
   ],
   "source": [
    "df.sample(5)"
   ]
  },
  {
   "cell_type": "code",
   "execution_count": 42,
   "metadata": {},
   "outputs": [],
   "source": [
    "df.to_csv('../Data/Test_data_preprocessed.tsv', sep='\\t')"
   ]
  },
  {
   "cell_type": "markdown",
   "metadata": {},
   "source": [
    "## Если нужно поменять опции то допишите дополнительные циклы main.py"
   ]
  },
  {
   "cell_type": "code",
   "execution_count": 3,
   "metadata": {},
   "outputs": [],
   "source": [
    "with open('meta.json', 'w') as f:\n",
    "    json.dump(meta, f, ensure_ascii=False)"
   ]
  }
 ],
 "metadata": {
  "kernelspec": {
   "display_name": "Python 3",
   "language": "python",
   "name": "python3"
  },
  "language_info": {
   "codemirror_mode": {
    "name": "ipython",
    "version": 3
   },
   "file_extension": ".py",
   "mimetype": "text/x-python",
   "name": "python",
   "nbconvert_exporter": "python",
   "pygments_lexer": "ipython3",
   "version": "3.7.3"
  }
 },
 "nbformat": 4,
 "nbformat_minor": 2
}
