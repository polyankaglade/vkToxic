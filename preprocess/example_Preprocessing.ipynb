{
 "cells": [
  {
   "cell_type": "code",
   "execution_count": 4,
   "metadata": {},
   "outputs": [
    {
     "name": "stdout",
     "output_type": "stream",
     "text": [
      "Collecting emoji\n",
      "  Downloading emoji-0.6.0.tar.gz (51 kB)\n",
      "Building wheels for collected packages: emoji\n",
      "  Building wheel for emoji (setup.py): started\n",
      "  Building wheel for emoji (setup.py): finished with status 'done'\n",
      "  Created wheel for emoji: filename=emoji-0.6.0-py3-none-any.whl size=49721 sha256=9cd96555cd3d6a03e39369b00b9deaa63abf0270852c953dc50c1a7999ca4125\n",
      "  Stored in directory: c:\\users\\user\\appdata\\local\\pip\\cache\\wheels\\4e\\bf\\6b\\2e22b3708d14bf6384f862db539b044d6931bd6b14ad3c9adc\n",
      "Successfully built emoji\n",
      "Installing collected packages: emoji\n",
      "Successfully installed emoji-0.6.0\n"
     ]
    }
   ],
   "source": [
    "# !python -m pip install emoji --upgrade"
   ]
  },
  {
   "cell_type": "code",
   "execution_count": 10,
   "metadata": {},
   "outputs": [],
   "source": [
    "import json\n",
    "from main import preprocess\n",
    "from tokenization import tokenize\n",
    "from lemmatization import lemmatize"
   ]
  },
  {
   "cell_type": "code",
   "execution_count": 3,
   "metadata": {},
   "outputs": [
    {
     "data": {
      "text/plain": [
       "32"
      ]
     },
     "execution_count": 3,
     "metadata": {},
     "output_type": "execute_result"
    }
   ],
   "source": [
    "with open('meta.json', 'r', encoding='utf-8') as f:\n",
    "    meta = json.load(f)\n",
    "    \n",
    "len(meta)"
   ]
  },
  {
   "cell_type": "markdown",
   "metadata": {},
   "source": [
    "### Пример использования на 1 вхождении"
   ]
  },
  {
   "cell_type": "code",
   "execution_count": 7,
   "metadata": {},
   "outputs": [
    {
     "name": "stdout",
     "output_type": "stream",
     "text": [
      "автор , какая у вас охёенная собака ! 😍 💤 😥\n",
      "автор , какая у вас охёенная собака ! \n",
      "автор , какая у вас охёенная собака ! emoji emoji emoji\n",
      "автор , какая у вас охёенная собака ! pos_emoji neutral_emoji neg_emoji\n",
      "автор , охёенная собака ! 😍 💤 😥\n",
      "автор , охёенная собака ! \n",
      "автор , охёенная собака ! emoji emoji emoji\n",
      "автор , охёенная собака ! pos_emoji neutral_emoji neg_emoji\n",
      "автор , какой у вы охёенный собака ! 😍 💤 😥\n",
      "автор , какой у вы охёенный собака ! \n",
      "автор , какой у вы охёенный собака ! emoji emoji emoji\n",
      "автор , какой у вы охёенный собака ! pos_emoji neutral_emoji neg_emoji\n",
      "автор , охёенный собака ! 😍 💤 😥\n",
      "автор , охёенный собака ! \n",
      "автор , охёенный собака ! emoji emoji emoji\n",
      "автор , охёенный собака ! pos_emoji neutral_emoji neg_emoji\n",
      "автор какая у вас охёенная собака 😍 💤 😥\n",
      "автор какая у вас охёенная собака \n",
      "автор какая у вас охёенная собака emoji emoji emoji\n",
      "автор какая у вас охёенная собака pos_emoji neutral_emoji neg_emoji\n",
      "автор охёенная собака 😍 💤 😥\n",
      "автор охёенная собака \n",
      "автор охёенная собака emoji emoji emoji\n",
      "автор охёенная собака pos_emoji neutral_emoji neg_emoji\n",
      "автор какой у вы охёенный собака 😍 💤 😥\n",
      "автор какой у вы охёенный собака \n",
      "автор какой у вы охёенный собака emoji emoji emoji\n",
      "автор какой у вы охёенный собака pos_emoji neutral_emoji neg_emoji\n",
      "автор охёенный собака 😍 💤 😥\n",
      "автор охёенный собака \n",
      "автор охёенный собака emoji emoji emoji\n",
      "автор охёенный собака pos_emoji neutral_emoji neg_emoji\n"
     ]
    }
   ],
   "source": [
    "test = 'Автор, какая у вас ох*енная собака! 😍💤😥'\n",
    "tok = tokenize(test)\n",
    "\n",
    "for i, params in meta.items():\n",
    "    print(preprocess(tok, params=params))"
   ]
  },
  {
   "cell_type": "markdown",
   "metadata": {},
   "source": [
    "## Пример использования на всех данных"
   ]
  },
  {
   "cell_type": "code",
   "execution_count": 11,
   "metadata": {},
   "outputs": [],
   "source": [
    "import pandas as pd\n",
    "from tqdm.auto import tqdm\n",
    "tqdm.pandas()"
   ]
  },
  {
   "cell_type": "code",
   "execution_count": 17,
   "metadata": {},
   "outputs": [
    {
     "data": {
      "application/vnd.jupyter.widget-view+json": {
       "model_id": "9ce6337cc39f426ba1a5d9c94785e95b",
       "version_major": 2,
       "version_minor": 0
      },
      "text/plain": [
       "HBox(children=(IntProgress(value=0, max=11053), HTML(value='')))"
      ]
     },
     "metadata": {},
     "output_type": "display_data"
    },
    {
     "data": {
      "application/vnd.jupyter.widget-view+json": {
       "model_id": "ac34578982b442a6a5c9cd6bac15bc07",
       "version_major": 2,
       "version_minor": 0
      },
      "text/plain": [
       "HBox(children=(IntProgress(value=0, max=11053), HTML(value='')))"
      ]
     },
     "metadata": {},
     "output_type": "display_data"
    }
   ],
   "source": [
    "filepath = 'example_data.tsv'\n",
    "df = pd.read_csv(filepath, sep='\\t')\n",
    "df['tokenized'] = df['текст'].progress_apply(tokenize)\n",
    "df['lemmatized'] = df['tokenized'].progress_apply(lemmatize)"
   ]
  },
  {
   "cell_type": "code",
   "execution_count": 18,
   "metadata": {},
   "outputs": [
    {
     "data": {
      "text/html": [
       "<div>\n",
       "<style scoped>\n",
       "    .dataframe tbody tr th:only-of-type {\n",
       "        vertical-align: middle;\n",
       "    }\n",
       "\n",
       "    .dataframe tbody tr th {\n",
       "        vertical-align: top;\n",
       "    }\n",
       "\n",
       "    .dataframe thead th {\n",
       "        text-align: right;\n",
       "    }\n",
       "</style>\n",
       "<table border=\"1\" class=\"dataframe\">\n",
       "  <thead>\n",
       "    <tr style=\"text-align: right;\">\n",
       "      <th></th>\n",
       "      <th>Unnamed: 0</th>\n",
       "      <th>разметка</th>\n",
       "      <th>текст</th>\n",
       "      <th>контекст</th>\n",
       "      <th>community_id</th>\n",
       "      <th>community_type</th>\n",
       "      <th>tokenized</th>\n",
       "      <th>lemmatized</th>\n",
       "    </tr>\n",
       "  </thead>\n",
       "  <tbody>\n",
       "    <tr>\n",
       "      <th>0</th>\n",
       "      <td>0</td>\n",
       "      <td>speech</td>\n",
       "      <td>Спасибо!</td>\n",
       "      <td>post</td>\n",
       "      <td>1</td>\n",
       "      <td>nontoxic</td>\n",
       "      <td>спасибо !</td>\n",
       "      <td>спасибо !</td>\n",
       "    </tr>\n",
       "    <tr>\n",
       "      <th>1</th>\n",
       "      <td>1</td>\n",
       "      <td>speech</td>\n",
       "      <td>вау спасибо большое!!</td>\n",
       "      <td>post</td>\n",
       "      <td>1</td>\n",
       "      <td>nontoxic</td>\n",
       "      <td>вау спасибо большое ! !</td>\n",
       "      <td>вау спасибо большой ! !</td>\n",
       "    </tr>\n",
       "    <tr>\n",
       "      <th>2</th>\n",
       "      <td>2</td>\n",
       "      <td>speech</td>\n",
       "      <td>Супер! Благодарю🙏</td>\n",
       "      <td>post</td>\n",
       "      <td>1</td>\n",
       "      <td>nontoxic</td>\n",
       "      <td>супер ! благодарю 🙏</td>\n",
       "      <td>супер ! благодарить 🙏</td>\n",
       "    </tr>\n",
       "    <tr>\n",
       "      <th>3</th>\n",
       "      <td>3</td>\n",
       "      <td>speech</td>\n",
       "      <td>офигеть, спасибо!</td>\n",
       "      <td>post</td>\n",
       "      <td>1</td>\n",
       "      <td>nontoxic</td>\n",
       "      <td>офигеть , спасибо !</td>\n",
       "      <td>офигеть , спасибо !</td>\n",
       "    </tr>\n",
       "    <tr>\n",
       "      <th>4</th>\n",
       "      <td>4</td>\n",
       "      <td>speech</td>\n",
       "      <td>спасибо за проделанную работу 💙</td>\n",
       "      <td>post</td>\n",
       "      <td>1</td>\n",
       "      <td>nontoxic</td>\n",
       "      <td>спасибо за проделанную работу 💙</td>\n",
       "      <td>спасибо за проделать работа 💙</td>\n",
       "    </tr>\n",
       "  </tbody>\n",
       "</table>\n",
       "</div>"
      ],
      "text/plain": [
       "   Unnamed: 0 разметка                            текст контекст  \\\n",
       "0           0   speech                         Спасибо!     post   \n",
       "1           1   speech            вау спасибо большое!!     post   \n",
       "2           2   speech                Супер! Благодарю🙏     post   \n",
       "3           3   speech                офигеть, спасибо!     post   \n",
       "4           4   speech  спасибо за проделанную работу 💙     post   \n",
       "\n",
       "   community_id community_type                        tokenized  \\\n",
       "0             1       nontoxic                        спасибо !   \n",
       "1             1       nontoxic          вау спасибо большое ! !   \n",
       "2             1       nontoxic              супер ! благодарю 🙏   \n",
       "3             1       nontoxic              офигеть , спасибо !   \n",
       "4             1       nontoxic  спасибо за проделанную работу 💙   \n",
       "\n",
       "                      lemmatized  \n",
       "0                      спасибо !  \n",
       "1        вау спасибо большой ! !  \n",
       "2          супер ! благодарить 🙏  \n",
       "3            офигеть , спасибо !  \n",
       "4  спасибо за проделать работа 💙  "
      ]
     },
     "execution_count": 18,
     "metadata": {},
     "output_type": "execute_result"
    }
   ],
   "source": [
    "df.head()"
   ]
  },
  {
   "cell_type": "code",
   "execution_count": 19,
   "metadata": {},
   "outputs": [
    {
     "data": {
      "application/vnd.jupyter.widget-view+json": {
       "model_id": "6495a90a0e964143966e9498c2ad76f1",
       "version_major": 2,
       "version_minor": 0
      },
      "text/plain": [
       "HBox(children=(IntProgress(value=0, max=32), HTML(value='')))"
      ]
     },
     "metadata": {},
     "output_type": "display_data"
    },
    {
     "data": {
      "application/vnd.jupyter.widget-view+json": {
       "model_id": "beb4f004bb474cc4afc2afd8118afda4",
       "version_major": 2,
       "version_minor": 0
      },
      "text/plain": [
       "HBox(children=(IntProgress(value=0, max=11053), HTML(value='')))"
      ]
     },
     "metadata": {},
     "output_type": "display_data"
    },
    {
     "data": {
      "application/vnd.jupyter.widget-view+json": {
       "model_id": "300011e4e3414ca786f17b4bd4036dfd",
       "version_major": 2,
       "version_minor": 0
      },
      "text/plain": [
       "HBox(children=(IntProgress(value=0, max=11053), HTML(value='')))"
      ]
     },
     "metadata": {},
     "output_type": "display_data"
    },
    {
     "data": {
      "application/vnd.jupyter.widget-view+json": {
       "model_id": "fda0518dae1849cebff6405fcc2c6bdf",
       "version_major": 2,
       "version_minor": 0
      },
      "text/plain": [
       "HBox(children=(IntProgress(value=0, max=11053), HTML(value='')))"
      ]
     },
     "metadata": {},
     "output_type": "display_data"
    },
    {
     "data": {
      "application/vnd.jupyter.widget-view+json": {
       "model_id": "86298e1fe2ed43edbb0f308da3302d7a",
       "version_major": 2,
       "version_minor": 0
      },
      "text/plain": [
       "HBox(children=(IntProgress(value=0, max=11053), HTML(value='')))"
      ]
     },
     "metadata": {},
     "output_type": "display_data"
    },
    {
     "data": {
      "application/vnd.jupyter.widget-view+json": {
       "model_id": "e6c38fba989645cd993e840b362669db",
       "version_major": 2,
       "version_minor": 0
      },
      "text/plain": [
       "HBox(children=(IntProgress(value=0, max=11053), HTML(value='')))"
      ]
     },
     "metadata": {},
     "output_type": "display_data"
    },
    {
     "data": {
      "application/vnd.jupyter.widget-view+json": {
       "model_id": "0a262051204e4c15bf35fc632eb489ba",
       "version_major": 2,
       "version_minor": 0
      },
      "text/plain": [
       "HBox(children=(IntProgress(value=0, max=11053), HTML(value='')))"
      ]
     },
     "metadata": {},
     "output_type": "display_data"
    },
    {
     "data": {
      "application/vnd.jupyter.widget-view+json": {
       "model_id": "8ef701e8e73443ac8fd1306320acd4b3",
       "version_major": 2,
       "version_minor": 0
      },
      "text/plain": [
       "HBox(children=(IntProgress(value=0, max=11053), HTML(value='')))"
      ]
     },
     "metadata": {},
     "output_type": "display_data"
    },
    {
     "data": {
      "application/vnd.jupyter.widget-view+json": {
       "model_id": "545787db6f174909931c349df8e02167",
       "version_major": 2,
       "version_minor": 0
      },
      "text/plain": [
       "HBox(children=(IntProgress(value=0, max=11053), HTML(value='')))"
      ]
     },
     "metadata": {},
     "output_type": "display_data"
    },
    {
     "data": {
      "application/vnd.jupyter.widget-view+json": {
       "model_id": "6d97b13d4c3e44768837c18aef47ebcc",
       "version_major": 2,
       "version_minor": 0
      },
      "text/plain": [
       "HBox(children=(IntProgress(value=0, max=11053), HTML(value='')))"
      ]
     },
     "metadata": {},
     "output_type": "display_data"
    },
    {
     "data": {
      "application/vnd.jupyter.widget-view+json": {
       "model_id": "7f47908f55bd4678b6f195d7355e0262",
       "version_major": 2,
       "version_minor": 0
      },
      "text/plain": [
       "HBox(children=(IntProgress(value=0, max=11053), HTML(value='')))"
      ]
     },
     "metadata": {},
     "output_type": "display_data"
    },
    {
     "data": {
      "application/vnd.jupyter.widget-view+json": {
       "model_id": "8fa7535284194b17ac7e4719f7a304a3",
       "version_major": 2,
       "version_minor": 0
      },
      "text/plain": [
       "HBox(children=(IntProgress(value=0, max=11053), HTML(value='')))"
      ]
     },
     "metadata": {},
     "output_type": "display_data"
    },
    {
     "data": {
      "application/vnd.jupyter.widget-view+json": {
       "model_id": "833a65b22b6d437a827f0f56cd51b808",
       "version_major": 2,
       "version_minor": 0
      },
      "text/plain": [
       "HBox(children=(IntProgress(value=0, max=11053), HTML(value='')))"
      ]
     },
     "metadata": {},
     "output_type": "display_data"
    },
    {
     "data": {
      "application/vnd.jupyter.widget-view+json": {
       "model_id": "ec178fc5bbb8412c9c90a910c1325bea",
       "version_major": 2,
       "version_minor": 0
      },
      "text/plain": [
       "HBox(children=(IntProgress(value=0, max=11053), HTML(value='')))"
      ]
     },
     "metadata": {},
     "output_type": "display_data"
    },
    {
     "data": {
      "application/vnd.jupyter.widget-view+json": {
       "model_id": "bea3749e133c42d28690faf5899a85eb",
       "version_major": 2,
       "version_minor": 0
      },
      "text/plain": [
       "HBox(children=(IntProgress(value=0, max=11053), HTML(value='')))"
      ]
     },
     "metadata": {},
     "output_type": "display_data"
    },
    {
     "data": {
      "application/vnd.jupyter.widget-view+json": {
       "model_id": "353503f156544e509196ee83a35fca5d",
       "version_major": 2,
       "version_minor": 0
      },
      "text/plain": [
       "HBox(children=(IntProgress(value=0, max=11053), HTML(value='')))"
      ]
     },
     "metadata": {},
     "output_type": "display_data"
    },
    {
     "data": {
      "application/vnd.jupyter.widget-view+json": {
       "model_id": "c20ce1ef47e54c4a82f1715aaa191253",
       "version_major": 2,
       "version_minor": 0
      },
      "text/plain": [
       "HBox(children=(IntProgress(value=0, max=11053), HTML(value='')))"
      ]
     },
     "metadata": {},
     "output_type": "display_data"
    },
    {
     "data": {
      "application/vnd.jupyter.widget-view+json": {
       "model_id": "44b63d9dc7be4b8d8dcff63076644ced",
       "version_major": 2,
       "version_minor": 0
      },
      "text/plain": [
       "HBox(children=(IntProgress(value=0, max=11053), HTML(value='')))"
      ]
     },
     "metadata": {},
     "output_type": "display_data"
    },
    {
     "data": {
      "application/vnd.jupyter.widget-view+json": {
       "model_id": "9b71140021d34d199adf6015b8e77e38",
       "version_major": 2,
       "version_minor": 0
      },
      "text/plain": [
       "HBox(children=(IntProgress(value=0, max=11053), HTML(value='')))"
      ]
     },
     "metadata": {},
     "output_type": "display_data"
    },
    {
     "data": {
      "application/vnd.jupyter.widget-view+json": {
       "model_id": "a552894ebdeb4a148a6039bccfa1935f",
       "version_major": 2,
       "version_minor": 0
      },
      "text/plain": [
       "HBox(children=(IntProgress(value=0, max=11053), HTML(value='')))"
      ]
     },
     "metadata": {},
     "output_type": "display_data"
    },
    {
     "data": {
      "application/vnd.jupyter.widget-view+json": {
       "model_id": "95a15b5dc0c141f7a864e4c425b1b5d8",
       "version_major": 2,
       "version_minor": 0
      },
      "text/plain": [
       "HBox(children=(IntProgress(value=0, max=11053), HTML(value='')))"
      ]
     },
     "metadata": {},
     "output_type": "display_data"
    },
    {
     "data": {
      "application/vnd.jupyter.widget-view+json": {
       "model_id": "c8381a5180444bfe9c40cba604d29cac",
       "version_major": 2,
       "version_minor": 0
      },
      "text/plain": [
       "HBox(children=(IntProgress(value=0, max=11053), HTML(value='')))"
      ]
     },
     "metadata": {},
     "output_type": "display_data"
    },
    {
     "data": {
      "application/vnd.jupyter.widget-view+json": {
       "model_id": "e3a2d9ded45141d5a14a50adb3b0e85a",
       "version_major": 2,
       "version_minor": 0
      },
      "text/plain": [
       "HBox(children=(IntProgress(value=0, max=11053), HTML(value='')))"
      ]
     },
     "metadata": {},
     "output_type": "display_data"
    },
    {
     "data": {
      "application/vnd.jupyter.widget-view+json": {
       "model_id": "21a14b8ef0314069bbab76caefce0aa1",
       "version_major": 2,
       "version_minor": 0
      },
      "text/plain": [
       "HBox(children=(IntProgress(value=0, max=11053), HTML(value='')))"
      ]
     },
     "metadata": {},
     "output_type": "display_data"
    },
    {
     "data": {
      "application/vnd.jupyter.widget-view+json": {
       "model_id": "ff28cfa10f3e4824ae475478b3ea2dc6",
       "version_major": 2,
       "version_minor": 0
      },
      "text/plain": [
       "HBox(children=(IntProgress(value=0, max=11053), HTML(value='')))"
      ]
     },
     "metadata": {},
     "output_type": "display_data"
    },
    {
     "data": {
      "application/vnd.jupyter.widget-view+json": {
       "model_id": "5d2222c6a1b94491aec283aca8ce02b0",
       "version_major": 2,
       "version_minor": 0
      },
      "text/plain": [
       "HBox(children=(IntProgress(value=0, max=11053), HTML(value='')))"
      ]
     },
     "metadata": {},
     "output_type": "display_data"
    },
    {
     "data": {
      "application/vnd.jupyter.widget-view+json": {
       "model_id": "f026e9cff35c4399a797c236c973b8f6",
       "version_major": 2,
       "version_minor": 0
      },
      "text/plain": [
       "HBox(children=(IntProgress(value=0, max=11053), HTML(value='')))"
      ]
     },
     "metadata": {},
     "output_type": "display_data"
    },
    {
     "data": {
      "application/vnd.jupyter.widget-view+json": {
       "model_id": "fa4f4ad57f6c4dcdb9b20586e5e671b0",
       "version_major": 2,
       "version_minor": 0
      },
      "text/plain": [
       "HBox(children=(IntProgress(value=0, max=11053), HTML(value='')))"
      ]
     },
     "metadata": {},
     "output_type": "display_data"
    },
    {
     "data": {
      "application/vnd.jupyter.widget-view+json": {
       "model_id": "bfd8b685fdd547b49371938bac8b960e",
       "version_major": 2,
       "version_minor": 0
      },
      "text/plain": [
       "HBox(children=(IntProgress(value=0, max=11053), HTML(value='')))"
      ]
     },
     "metadata": {},
     "output_type": "display_data"
    },
    {
     "data": {
      "application/vnd.jupyter.widget-view+json": {
       "model_id": "9d177bccddfa45049559bf0acf53da61",
       "version_major": 2,
       "version_minor": 0
      },
      "text/plain": [
       "HBox(children=(IntProgress(value=0, max=11053), HTML(value='')))"
      ]
     },
     "metadata": {},
     "output_type": "display_data"
    },
    {
     "data": {
      "application/vnd.jupyter.widget-view+json": {
       "model_id": "345e5e2927b44fed9c8fa1f075d52740",
       "version_major": 2,
       "version_minor": 0
      },
      "text/plain": [
       "HBox(children=(IntProgress(value=0, max=11053), HTML(value='')))"
      ]
     },
     "metadata": {},
     "output_type": "display_data"
    },
    {
     "data": {
      "application/vnd.jupyter.widget-view+json": {
       "model_id": "edb8250221f74a1da3375c0f67c835fa",
       "version_major": 2,
       "version_minor": 0
      },
      "text/plain": [
       "HBox(children=(IntProgress(value=0, max=11053), HTML(value='')))"
      ]
     },
     "metadata": {},
     "output_type": "display_data"
    },
    {
     "data": {
      "application/vnd.jupyter.widget-view+json": {
       "model_id": "8675ec1192a84fe48c9414f5f3a48b4c",
       "version_major": 2,
       "version_minor": 0
      },
      "text/plain": [
       "HBox(children=(IntProgress(value=0, max=11053), HTML(value='')))"
      ]
     },
     "metadata": {},
     "output_type": "display_data"
    }
   ],
   "source": [
    "for i, params in tqdm(meta.items()):\n",
    "    if params['lemmatization'] == 'no':\n",
    "        df[i] = [preprocess(tok, params=params) for tok in tqdm(df['tokenized'])]\n",
    "    if params['lemmatization'] == 'yes':\n",
    "        params['lemmatization'] = 'no'\n",
    "        df[i] = [preprocess(tok, params=params) for tok in tqdm(df['lemmatized'])]"
   ]
  },
  {
   "cell_type": "code",
   "execution_count": null,
   "metadata": {},
   "outputs": [],
   "source": [
    "df = df.drop(columns=['Unnamed: 0'])"
   ]
  },
  {
   "cell_type": "code",
   "execution_count": 27,
   "metadata": {},
   "outputs": [
    {
     "data": {
      "text/html": [
       "<div>\n",
       "<style scoped>\n",
       "    .dataframe tbody tr th:only-of-type {\n",
       "        vertical-align: middle;\n",
       "    }\n",
       "\n",
       "    .dataframe tbody tr th {\n",
       "        vertical-align: top;\n",
       "    }\n",
       "\n",
       "    .dataframe thead th {\n",
       "        text-align: right;\n",
       "    }\n",
       "</style>\n",
       "<table border=\"1\" class=\"dataframe\">\n",
       "  <thead>\n",
       "    <tr style=\"text-align: right;\">\n",
       "      <th></th>\n",
       "      <th>разметка</th>\n",
       "      <th>текст</th>\n",
       "      <th>контекст</th>\n",
       "      <th>community_id</th>\n",
       "      <th>community_type</th>\n",
       "      <th>tokenized</th>\n",
       "      <th>lemmatized</th>\n",
       "      <th>0</th>\n",
       "      <th>1</th>\n",
       "      <th>2</th>\n",
       "      <th>...</th>\n",
       "      <th>22</th>\n",
       "      <th>23</th>\n",
       "      <th>24</th>\n",
       "      <th>25</th>\n",
       "      <th>26</th>\n",
       "      <th>27</th>\n",
       "      <th>28</th>\n",
       "      <th>29</th>\n",
       "      <th>30</th>\n",
       "      <th>31</th>\n",
       "    </tr>\n",
       "  </thead>\n",
       "  <tbody>\n",
       "    <tr>\n",
       "      <th>5970</th>\n",
       "      <td>NaN</td>\n",
       "      <td>[id557591534|Клод], мы продукт тех, кто нас сд...</td>\n",
       "      <td>[id407071736|Алексей], тогда по такой же логик...</td>\n",
       "      <td>3</td>\n",
       "      <td>toxic</td>\n",
       "      <td>username , мы продукт тех , кто нас сделал . т...</td>\n",
       "      <td>username , мы продукт тот , кто мы сделать . т...</td>\n",
       "      <td>username , мы продукт тех , кто нас сделал . т...</td>\n",
       "      <td>username , мы продукт тех , кто нас сделал . т...</td>\n",
       "      <td>username , мы продукт тех , кто нас сделал . т...</td>\n",
       "      <td>...</td>\n",
       "      <td>username продукт тех сделал те сделал продукт ...</td>\n",
       "      <td>username продукт тех сделал те сделал продукт ...</td>\n",
       "      <td>username мы продукт тот кто мы сделать тот кто...</td>\n",
       "      <td>username мы продукт тот кто мы сделать тот кто...</td>\n",
       "      <td>username мы продукт тот кто мы сделать тот кто...</td>\n",
       "      <td>username мы продукт тот кто мы сделать тот кто...</td>\n",
       "      <td>username продукт сделать сделать продукт сдела...</td>\n",
       "      <td>username продукт сделать сделать продукт сдела...</td>\n",
       "      <td>username продукт сделать сделать продукт сдела...</td>\n",
       "      <td>username продукт сделать сделать продукт сдела...</td>\n",
       "    </tr>\n",
       "    <tr>\n",
       "      <th>5887</th>\n",
       "      <td>NaN</td>\n",
       "      <td>А с возрастом понимаешь, что никто и не заметит</td>\n",
       "      <td>post</td>\n",
       "      <td>3</td>\n",
       "      <td>toxic</td>\n",
       "      <td>а с возрастом понимаешь , что никто и не заметит</td>\n",
       "      <td>а с возраст понимать , что никто и не заметить</td>\n",
       "      <td>а с возрастом понимаешь , что никто и не заметит</td>\n",
       "      <td>а с возрастом понимаешь , что никто и не заметит</td>\n",
       "      <td>а с возрастом понимаешь , что никто и не заметит</td>\n",
       "      <td>...</td>\n",
       "      <td>возрастом понимаешь никто заметит</td>\n",
       "      <td>возрастом понимаешь никто заметит</td>\n",
       "      <td>а с возраст понимать что никто и не заметить</td>\n",
       "      <td>а с возраст понимать что никто и не заметить</td>\n",
       "      <td>а с возраст понимать что никто и не заметить</td>\n",
       "      <td>а с возраст понимать что никто и не заметить</td>\n",
       "      <td>возраст понимать никто заметить</td>\n",
       "      <td>возраст понимать никто заметить</td>\n",
       "      <td>возраст понимать никто заметить</td>\n",
       "      <td>возраст понимать никто заметить</td>\n",
       "    </tr>\n",
       "    <tr>\n",
       "      <th>10082</th>\n",
       "      <td>NaN</td>\n",
       "      <td>[id33820910|Дмитрий], я подобрала сыну красиво...</td>\n",
       "      <td>Ну если отец оказался гнидой позорной, предал ...</td>\n",
       "      <td>4</td>\n",
       "      <td>toxic</td>\n",
       "      <td>username , я подобрала сыну красивое отчество ...</td>\n",
       "      <td>username , я подобрать сын красивый отчество ,...</td>\n",
       "      <td>username , я подобрала сыну красивое отчество ...</td>\n",
       "      <td>username , я подобрала сыну красивое отчество ...</td>\n",
       "      <td>username , я подобрала сыну красивое отчество ...</td>\n",
       "      <td>...</td>\n",
       "      <td>username подобрала сыну красивое отчество звуч...</td>\n",
       "      <td>username подобрала сыну красивое отчество звуч...</td>\n",
       "      <td>username я подобрать сын красивый отчество что...</td>\n",
       "      <td>username я подобрать сын красивый отчество что...</td>\n",
       "      <td>username я подобрать сын красивый отчество что...</td>\n",
       "      <td>username я подобрать сын красивый отчество что...</td>\n",
       "      <td>username подобрать сын красивый отчество звуча...</td>\n",
       "      <td>username подобрать сын красивый отчество звуча...</td>\n",
       "      <td>username подобрать сын красивый отчество звуча...</td>\n",
       "      <td>username подобрать сын красивый отчество звуча...</td>\n",
       "    </tr>\n",
       "    <tr>\n",
       "      <th>6012</th>\n",
       "      <td>NaN</td>\n",
       "      <td>[id19961032|Александр], есть и умершие</td>\n",
       "      <td>[id8531336|Антон], а есть заболевшие?</td>\n",
       "      <td>3</td>\n",
       "      <td>toxic</td>\n",
       "      <td>username , есть и умершие</td>\n",
       "      <td>username , есть и умерший</td>\n",
       "      <td>username , есть и умершие</td>\n",
       "      <td>username , есть и умершие</td>\n",
       "      <td>username , есть и умершие</td>\n",
       "      <td>...</td>\n",
       "      <td>username умершие</td>\n",
       "      <td>username умершие</td>\n",
       "      <td>username есть и умерший</td>\n",
       "      <td>username есть и умерший</td>\n",
       "      <td>username есть и умерший</td>\n",
       "      <td>username есть и умерший</td>\n",
       "      <td>username умерший</td>\n",
       "      <td>username умерший</td>\n",
       "      <td>username умерший</td>\n",
       "      <td>username умерший</td>\n",
       "    </tr>\n",
       "    <tr>\n",
       "      <th>5875</th>\n",
       "      <td>NaN</td>\n",
       "      <td>[id588219929|Алина], ты же не в красной книге,...</td>\n",
       "      <td>[id10183073|Влад], не обижайте животных</td>\n",
       "      <td>3</td>\n",
       "      <td>toxic</td>\n",
       "      <td>username , ты же не в красной книге , чтобы та...</td>\n",
       "      <td>username , ты же не в красный книга , чтобы та...</td>\n",
       "      <td>username , ты же не в красной книге , чтобы та...</td>\n",
       "      <td>username , ты же не в красной книге , чтобы та...</td>\n",
       "      <td>username , ты же не в красной книге , чтобы та...</td>\n",
       "      <td>...</td>\n",
       "      <td>username красной книге таких животных охраняли</td>\n",
       "      <td>username красной книге таких животных охраняли</td>\n",
       "      <td>username ты же не в красный книга чтобы такой ...</td>\n",
       "      <td>username ты же не в красный книга чтобы такой ...</td>\n",
       "      <td>username ты же не в красный книга чтобы такой ...</td>\n",
       "      <td>username ты же не в красный книга чтобы такой ...</td>\n",
       "      <td>username красный книга животное охранять</td>\n",
       "      <td>username красный книга животное охранять</td>\n",
       "      <td>username красный книга животное охранять</td>\n",
       "      <td>username красный книга животное охранять</td>\n",
       "    </tr>\n",
       "    <tr>\n",
       "      <th>7592</th>\n",
       "      <td>NaN</td>\n",
       "      <td>И продолжают тереть..</td>\n",
       "      <td>post</td>\n",
       "      <td>4</td>\n",
       "      <td>toxic</td>\n",
       "      <td>и продолжают тереть . .</td>\n",
       "      <td>и продолжать тереть . .</td>\n",
       "      <td>и продолжают тереть . .</td>\n",
       "      <td>и продолжают тереть . .</td>\n",
       "      <td>и продолжают тереть . .</td>\n",
       "      <td>...</td>\n",
       "      <td>продолжают тереть</td>\n",
       "      <td>продолжают тереть</td>\n",
       "      <td>и продолжать тереть</td>\n",
       "      <td>и продолжать тереть</td>\n",
       "      <td>и продолжать тереть</td>\n",
       "      <td>и продолжать тереть</td>\n",
       "      <td>продолжать тереть</td>\n",
       "      <td>продолжать тереть</td>\n",
       "      <td>продолжать тереть</td>\n",
       "      <td>продолжать тереть</td>\n",
       "    </tr>\n",
       "    <tr>\n",
       "      <th>2768</th>\n",
       "      <td>skip</td>\n",
       "      <td>[id207368160|Илья], в чём Вы правы...\\n\\nТут в...</td>\n",
       "      <td>Я понял, тут нет смысла спорить, когда один че...</td>\n",
       "      <td>3</td>\n",
       "      <td>toxic</td>\n",
       "      <td>username , в чем вы правы . . . тут все очевид...</td>\n",
       "      <td>username , в чем вы правый . . . тут весь очев...</td>\n",
       "      <td>username , в чем вы правы . . . тут все очевид...</td>\n",
       "      <td>username , в чем вы правы . . . тут все очевид...</td>\n",
       "      <td>username , в чем вы правы . . . тут все очевид...</td>\n",
       "      <td>...</td>\n",
       "      <td>username правы очевидно</td>\n",
       "      <td>username правы очевидно</td>\n",
       "      <td>username в чем вы правый тут весь очевидно</td>\n",
       "      <td>username в чем вы правый тут весь очевидно</td>\n",
       "      <td>username в чем вы правый тут весь очевидно</td>\n",
       "      <td>username в чем вы правый тут весь очевидно</td>\n",
       "      <td>username правый весь очевидно</td>\n",
       "      <td>username правый весь очевидно</td>\n",
       "      <td>username правый весь очевидно</td>\n",
       "      <td>username правый весь очевидно</td>\n",
       "    </tr>\n",
       "    <tr>\n",
       "      <th>1279</th>\n",
       "      <td>skip</td>\n",
       "      <td>с УралМаша</td>\n",
       "      <td>post</td>\n",
       "      <td>2</td>\n",
       "      <td>nontoxic</td>\n",
       "      <td>с уралмаша</td>\n",
       "      <td>с уралмаш</td>\n",
       "      <td>с уралмаша</td>\n",
       "      <td>с уралмаша</td>\n",
       "      <td>с уралмаша</td>\n",
       "      <td>...</td>\n",
       "      <td>уралмаша</td>\n",
       "      <td>уралмаша</td>\n",
       "      <td>с уралмаш</td>\n",
       "      <td>с уралмаш</td>\n",
       "      <td>с уралмаш</td>\n",
       "      <td>с уралмаш</td>\n",
       "      <td>уралмаш</td>\n",
       "      <td>уралмаш</td>\n",
       "      <td>уралмаш</td>\n",
       "      <td>уралмаш</td>\n",
       "    </tr>\n",
       "    <tr>\n",
       "      <th>1470</th>\n",
       "      <td>skip</td>\n",
       "      <td>[id135654055|Федор], а мужчины не готовые нест...</td>\n",
       "      <td>[id289457933|Марина], ага, с 90х разбираются. ...</td>\n",
       "      <td>2</td>\n",
       "      <td>nontoxic</td>\n",
       "      <td>username , а мужчины не готовые нести ответств...</td>\n",
       "      <td>username , а мужчина не готовый нести ответств...</td>\n",
       "      <td>username , а мужчины не готовые нести ответств...</td>\n",
       "      <td>username , а мужчины не готовые нести ответств...</td>\n",
       "      <td>username , а мужчины не готовые нести ответств...</td>\n",
       "      <td>...</td>\n",
       "      <td>username мужчины готовые нести ответственность...</td>\n",
       "      <td>username мужчины готовые нести ответственность...</td>\n",
       "      <td>username а мужчина не готовый нести ответствен...</td>\n",
       "      <td>username а мужчина не готовый нести ответствен...</td>\n",
       "      <td>username а мужчина не готовый нести ответствен...</td>\n",
       "      <td>username а мужчина не готовый нести ответствен...</td>\n",
       "      <td>username мужчина готовый нести ответственность...</td>\n",
       "      <td>username мужчина готовый нести ответственность...</td>\n",
       "      <td>username мужчина готовый нести ответственность...</td>\n",
       "      <td>username мужчина готовый нести ответственность...</td>\n",
       "    </tr>\n",
       "    <tr>\n",
       "      <th>7667</th>\n",
       "      <td>NaN</td>\n",
       "      <td>[id118395544|Артём], Как быть с явлением перем...</td>\n",
       "      <td>[id137331299|Денис], Видимо, ты очень мало пос...</td>\n",
       "      <td>4</td>\n",
       "      <td>toxic</td>\n",
       "      <td>username , как быть с явлением перемирия на во...</td>\n",
       "      <td>username , как быть с явление перемирие на вод...</td>\n",
       "      <td>username , как быть с явлением перемирия на во...</td>\n",
       "      <td>username , как быть с явлением перемирия на во...</td>\n",
       "      <td>username , как быть с явлением перемирия на во...</td>\n",
       "      <td>...</td>\n",
       "      <td>username явлением перемирия водопое 2 состояния</td>\n",
       "      <td>username явлением перемирия водопое 2 состояния</td>\n",
       "      <td>username как быть с явление перемирие на водоп...</td>\n",
       "      <td>username как быть с явление перемирие на водоп...</td>\n",
       "      <td>username как быть с явление перемирие на водоп...</td>\n",
       "      <td>username как быть с явление перемирие на водоп...</td>\n",
       "      <td>username явление перемирие водопой 2 состояние</td>\n",
       "      <td>username явление перемирие водопой 2 состояние</td>\n",
       "      <td>username явление перемирие водопой 2 состояние</td>\n",
       "      <td>username явление перемирие водопой 2 состояние</td>\n",
       "    </tr>\n",
       "  </tbody>\n",
       "</table>\n",
       "<p>10 rows × 39 columns</p>\n",
       "</div>"
      ],
      "text/plain": [
       "      разметка                                              текст  \\\n",
       "5970       NaN  [id557591534|Клод], мы продукт тех, кто нас сд...   \n",
       "5887       NaN    А с возрастом понимаешь, что никто и не заметит   \n",
       "10082      NaN  [id33820910|Дмитрий], я подобрала сыну красиво...   \n",
       "6012       NaN             [id19961032|Александр], есть и умершие   \n",
       "5875       NaN  [id588219929|Алина], ты же не в красной книге,...   \n",
       "7592       NaN                              И продолжают тереть..   \n",
       "2768      skip  [id207368160|Илья], в чём Вы правы...\\n\\nТут в...   \n",
       "1279      skip                                         с УралМаша   \n",
       "1470      skip  [id135654055|Федор], а мужчины не готовые нест...   \n",
       "7667       NaN  [id118395544|Артём], Как быть с явлением перем...   \n",
       "\n",
       "                                                контекст  community_id  \\\n",
       "5970   [id407071736|Алексей], тогда по такой же логик...             3   \n",
       "5887                                                post             3   \n",
       "10082  Ну если отец оказался гнидой позорной, предал ...             4   \n",
       "6012               [id8531336|Антон], а есть заболевшие?             3   \n",
       "5875             [id10183073|Влад], не обижайте животных             3   \n",
       "7592                                                post             4   \n",
       "2768   Я понял, тут нет смысла спорить, когда один че...             3   \n",
       "1279                                                post             2   \n",
       "1470   [id289457933|Марина], ага, с 90х разбираются. ...             2   \n",
       "7667   [id137331299|Денис], Видимо, ты очень мало пос...             4   \n",
       "\n",
       "      community_type                                          tokenized  \\\n",
       "5970           toxic  username , мы продукт тех , кто нас сделал . т...   \n",
       "5887           toxic   а с возрастом понимаешь , что никто и не заметит   \n",
       "10082          toxic  username , я подобрала сыну красивое отчество ...   \n",
       "6012           toxic                          username , есть и умершие   \n",
       "5875           toxic  username , ты же не в красной книге , чтобы та...   \n",
       "7592           toxic                            и продолжают тереть . .   \n",
       "2768           toxic  username , в чем вы правы . . . тут все очевид...   \n",
       "1279        nontoxic                                         с уралмаша   \n",
       "1470        nontoxic  username , а мужчины не готовые нести ответств...   \n",
       "7667           toxic  username , как быть с явлением перемирия на во...   \n",
       "\n",
       "                                              lemmatized  \\\n",
       "5970   username , мы продукт тот , кто мы сделать . т...   \n",
       "5887      а с возраст понимать , что никто и не заметить   \n",
       "10082  username , я подобрать сын красивый отчество ,...   \n",
       "6012                           username , есть и умерший   \n",
       "5875   username , ты же не в красный книга , чтобы та...   \n",
       "7592                             и продолжать тереть . .   \n",
       "2768   username , в чем вы правый . . . тут весь очев...   \n",
       "1279                                           с уралмаш   \n",
       "1470   username , а мужчина не готовый нести ответств...   \n",
       "7667   username , как быть с явление перемирие на вод...   \n",
       "\n",
       "                                                       0  \\\n",
       "5970   username , мы продукт тех , кто нас сделал . т...   \n",
       "5887    а с возрастом понимаешь , что никто и не заметит   \n",
       "10082  username , я подобрала сыну красивое отчество ...   \n",
       "6012                           username , есть и умершие   \n",
       "5875   username , ты же не в красной книге , чтобы та...   \n",
       "7592                             и продолжают тереть . .   \n",
       "2768   username , в чем вы правы . . . тут все очевид...   \n",
       "1279                                          с уралмаша   \n",
       "1470   username , а мужчины не готовые нести ответств...   \n",
       "7667   username , как быть с явлением перемирия на во...   \n",
       "\n",
       "                                                       1  \\\n",
       "5970   username , мы продукт тех , кто нас сделал . т...   \n",
       "5887    а с возрастом понимаешь , что никто и не заметит   \n",
       "10082  username , я подобрала сыну красивое отчество ...   \n",
       "6012                           username , есть и умершие   \n",
       "5875   username , ты же не в красной книге , чтобы та...   \n",
       "7592                             и продолжают тереть . .   \n",
       "2768   username , в чем вы правы . . . тут все очевид...   \n",
       "1279                                          с уралмаша   \n",
       "1470   username , а мужчины не готовые нести ответств...   \n",
       "7667   username , как быть с явлением перемирия на во...   \n",
       "\n",
       "                                                       2  ...  \\\n",
       "5970   username , мы продукт тех , кто нас сделал . т...  ...   \n",
       "5887    а с возрастом понимаешь , что никто и не заметит  ...   \n",
       "10082  username , я подобрала сыну красивое отчество ...  ...   \n",
       "6012                           username , есть и умершие  ...   \n",
       "5875   username , ты же не в красной книге , чтобы та...  ...   \n",
       "7592                             и продолжают тереть . .  ...   \n",
       "2768   username , в чем вы правы . . . тут все очевид...  ...   \n",
       "1279                                          с уралмаша  ...   \n",
       "1470   username , а мужчины не готовые нести ответств...  ...   \n",
       "7667   username , как быть с явлением перемирия на во...  ...   \n",
       "\n",
       "                                                      22  \\\n",
       "5970   username продукт тех сделал те сделал продукт ...   \n",
       "5887                   возрастом понимаешь никто заметит   \n",
       "10082  username подобрала сыну красивое отчество звуч...   \n",
       "6012                                    username умершие   \n",
       "5875      username красной книге таких животных охраняли   \n",
       "7592                                   продолжают тереть   \n",
       "2768                             username правы очевидно   \n",
       "1279                                            уралмаша   \n",
       "1470   username мужчины готовые нести ответственность...   \n",
       "7667     username явлением перемирия водопое 2 состояния   \n",
       "\n",
       "                                                      23  \\\n",
       "5970   username продукт тех сделал те сделал продукт ...   \n",
       "5887                   возрастом понимаешь никто заметит   \n",
       "10082  username подобрала сыну красивое отчество звуч...   \n",
       "6012                                    username умершие   \n",
       "5875      username красной книге таких животных охраняли   \n",
       "7592                                   продолжают тереть   \n",
       "2768                             username правы очевидно   \n",
       "1279                                            уралмаша   \n",
       "1470   username мужчины готовые нести ответственность...   \n",
       "7667     username явлением перемирия водопое 2 состояния   \n",
       "\n",
       "                                                      24  \\\n",
       "5970   username мы продукт тот кто мы сделать тот кто...   \n",
       "5887        а с возраст понимать что никто и не заметить   \n",
       "10082  username я подобрать сын красивый отчество что...   \n",
       "6012                             username есть и умерший   \n",
       "5875   username ты же не в красный книга чтобы такой ...   \n",
       "7592                                 и продолжать тереть   \n",
       "2768          username в чем вы правый тут весь очевидно   \n",
       "1279                                           с уралмаш   \n",
       "1470   username а мужчина не готовый нести ответствен...   \n",
       "7667   username как быть с явление перемирие на водоп...   \n",
       "\n",
       "                                                      25  \\\n",
       "5970   username мы продукт тот кто мы сделать тот кто...   \n",
       "5887        а с возраст понимать что никто и не заметить   \n",
       "10082  username я подобрать сын красивый отчество что...   \n",
       "6012                             username есть и умерший   \n",
       "5875   username ты же не в красный книга чтобы такой ...   \n",
       "7592                                 и продолжать тереть   \n",
       "2768          username в чем вы правый тут весь очевидно   \n",
       "1279                                           с уралмаш   \n",
       "1470   username а мужчина не готовый нести ответствен...   \n",
       "7667   username как быть с явление перемирие на водоп...   \n",
       "\n",
       "                                                      26  \\\n",
       "5970   username мы продукт тот кто мы сделать тот кто...   \n",
       "5887        а с возраст понимать что никто и не заметить   \n",
       "10082  username я подобрать сын красивый отчество что...   \n",
       "6012                             username есть и умерший   \n",
       "5875   username ты же не в красный книга чтобы такой ...   \n",
       "7592                                 и продолжать тереть   \n",
       "2768          username в чем вы правый тут весь очевидно   \n",
       "1279                                           с уралмаш   \n",
       "1470   username а мужчина не готовый нести ответствен...   \n",
       "7667   username как быть с явление перемирие на водоп...   \n",
       "\n",
       "                                                      27  \\\n",
       "5970   username мы продукт тот кто мы сделать тот кто...   \n",
       "5887        а с возраст понимать что никто и не заметить   \n",
       "10082  username я подобрать сын красивый отчество что...   \n",
       "6012                             username есть и умерший   \n",
       "5875   username ты же не в красный книга чтобы такой ...   \n",
       "7592                                 и продолжать тереть   \n",
       "2768          username в чем вы правый тут весь очевидно   \n",
       "1279                                           с уралмаш   \n",
       "1470   username а мужчина не готовый нести ответствен...   \n",
       "7667   username как быть с явление перемирие на водоп...   \n",
       "\n",
       "                                                      28  \\\n",
       "5970   username продукт сделать сделать продукт сдела...   \n",
       "5887                     возраст понимать никто заметить   \n",
       "10082  username подобрать сын красивый отчество звуча...   \n",
       "6012                                    username умерший   \n",
       "5875            username красный книга животное охранять   \n",
       "7592                                   продолжать тереть   \n",
       "2768                       username правый весь очевидно   \n",
       "1279                                             уралмаш   \n",
       "1470   username мужчина готовый нести ответственность...   \n",
       "7667      username явление перемирие водопой 2 состояние   \n",
       "\n",
       "                                                      29  \\\n",
       "5970   username продукт сделать сделать продукт сдела...   \n",
       "5887                     возраст понимать никто заметить   \n",
       "10082  username подобрать сын красивый отчество звуча...   \n",
       "6012                                    username умерший   \n",
       "5875            username красный книга животное охранять   \n",
       "7592                                   продолжать тереть   \n",
       "2768                       username правый весь очевидно   \n",
       "1279                                             уралмаш   \n",
       "1470   username мужчина готовый нести ответственность...   \n",
       "7667      username явление перемирие водопой 2 состояние   \n",
       "\n",
       "                                                      30  \\\n",
       "5970   username продукт сделать сделать продукт сдела...   \n",
       "5887                     возраст понимать никто заметить   \n",
       "10082  username подобрать сын красивый отчество звуча...   \n",
       "6012                                    username умерший   \n",
       "5875            username красный книга животное охранять   \n",
       "7592                                   продолжать тереть   \n",
       "2768                       username правый весь очевидно   \n",
       "1279                                             уралмаш   \n",
       "1470   username мужчина готовый нести ответственность...   \n",
       "7667      username явление перемирие водопой 2 состояние   \n",
       "\n",
       "                                                      31  \n",
       "5970   username продукт сделать сделать продукт сдела...  \n",
       "5887                     возраст понимать никто заметить  \n",
       "10082  username подобрать сын красивый отчество звуча...  \n",
       "6012                                    username умерший  \n",
       "5875            username красный книга животное охранять  \n",
       "7592                                   продолжать тереть  \n",
       "2768                       username правый весь очевидно  \n",
       "1279                                             уралмаш  \n",
       "1470   username мужчина готовый нести ответственность...  \n",
       "7667      username явление перемирие водопой 2 состояние  \n",
       "\n",
       "[10 rows x 39 columns]"
      ]
     },
     "execution_count": 27,
     "metadata": {},
     "output_type": "execute_result"
    }
   ],
   "source": [
    "df.sample(10)"
   ]
  },
  {
   "cell_type": "code",
   "execution_count": 25,
   "metadata": {},
   "outputs": [],
   "source": [
    "df.to_csv('example_preprocessed_data.tsv', sep='\\t')"
   ]
  },
  {
   "cell_type": "markdown",
   "metadata": {},
   "source": [
    "## Если нужно поменять опции то допишите дополнительные циклы сюда и в main.py соответственно"
   ]
  },
  {
   "cell_type": "code",
   "execution_count": 29,
   "metadata": {
    "scrolled": false
   },
   "outputs": [
    {
     "data": {
      "text/plain": [
       "{0: {'punctuation_deletion': 'no',\n",
       "  'lemmatization': 'no',\n",
       "  'stopwords_deletion': 'no',\n",
       "  'emojis_processing': 'no'},\n",
       " 1: {'punctuation_deletion': 'no',\n",
       "  'lemmatization': 'no',\n",
       "  'stopwords_deletion': 'no',\n",
       "  'emojis_processing': 'del'},\n",
       " 2: {'punctuation_deletion': 'no',\n",
       "  'lemmatization': 'no',\n",
       "  'stopwords_deletion': 'no',\n",
       "  'emojis_processing': 'replace'},\n",
       " 3: {'punctuation_deletion': 'no',\n",
       "  'lemmatization': 'no',\n",
       "  'stopwords_deletion': 'no',\n",
       "  'emojis_processing': 'label'},\n",
       " 4: {'punctuation_deletion': 'no',\n",
       "  'lemmatization': 'no',\n",
       "  'stopwords_deletion': 'yes',\n",
       "  'emojis_processing': 'no'},\n",
       " 5: {'punctuation_deletion': 'no',\n",
       "  'lemmatization': 'no',\n",
       "  'stopwords_deletion': 'yes',\n",
       "  'emojis_processing': 'del'},\n",
       " 6: {'punctuation_deletion': 'no',\n",
       "  'lemmatization': 'no',\n",
       "  'stopwords_deletion': 'yes',\n",
       "  'emojis_processing': 'replace'},\n",
       " 7: {'punctuation_deletion': 'no',\n",
       "  'lemmatization': 'no',\n",
       "  'stopwords_deletion': 'yes',\n",
       "  'emojis_processing': 'label'},\n",
       " 8: {'punctuation_deletion': 'no',\n",
       "  'lemmatization': 'yes',\n",
       "  'stopwords_deletion': 'no',\n",
       "  'emojis_processing': 'no'},\n",
       " 9: {'punctuation_deletion': 'no',\n",
       "  'lemmatization': 'yes',\n",
       "  'stopwords_deletion': 'no',\n",
       "  'emojis_processing': 'del'},\n",
       " 10: {'punctuation_deletion': 'no',\n",
       "  'lemmatization': 'yes',\n",
       "  'stopwords_deletion': 'no',\n",
       "  'emojis_processing': 'replace'},\n",
       " 11: {'punctuation_deletion': 'no',\n",
       "  'lemmatization': 'yes',\n",
       "  'stopwords_deletion': 'no',\n",
       "  'emojis_processing': 'label'},\n",
       " 12: {'punctuation_deletion': 'no',\n",
       "  'lemmatization': 'yes',\n",
       "  'stopwords_deletion': 'yes',\n",
       "  'emojis_processing': 'no'},\n",
       " 13: {'punctuation_deletion': 'no',\n",
       "  'lemmatization': 'yes',\n",
       "  'stopwords_deletion': 'yes',\n",
       "  'emojis_processing': 'del'},\n",
       " 14: {'punctuation_deletion': 'no',\n",
       "  'lemmatization': 'yes',\n",
       "  'stopwords_deletion': 'yes',\n",
       "  'emojis_processing': 'replace'},\n",
       " 15: {'punctuation_deletion': 'no',\n",
       "  'lemmatization': 'yes',\n",
       "  'stopwords_deletion': 'yes',\n",
       "  'emojis_processing': 'label'},\n",
       " 16: {'punctuation_deletion': 'yes',\n",
       "  'lemmatization': 'no',\n",
       "  'stopwords_deletion': 'no',\n",
       "  'emojis_processing': 'no'},\n",
       " 17: {'punctuation_deletion': 'yes',\n",
       "  'lemmatization': 'no',\n",
       "  'stopwords_deletion': 'no',\n",
       "  'emojis_processing': 'del'},\n",
       " 18: {'punctuation_deletion': 'yes',\n",
       "  'lemmatization': 'no',\n",
       "  'stopwords_deletion': 'no',\n",
       "  'emojis_processing': 'replace'},\n",
       " 19: {'punctuation_deletion': 'yes',\n",
       "  'lemmatization': 'no',\n",
       "  'stopwords_deletion': 'no',\n",
       "  'emojis_processing': 'label'},\n",
       " 20: {'punctuation_deletion': 'yes',\n",
       "  'lemmatization': 'no',\n",
       "  'stopwords_deletion': 'yes',\n",
       "  'emojis_processing': 'no'},\n",
       " 21: {'punctuation_deletion': 'yes',\n",
       "  'lemmatization': 'no',\n",
       "  'stopwords_deletion': 'yes',\n",
       "  'emojis_processing': 'del'},\n",
       " 22: {'punctuation_deletion': 'yes',\n",
       "  'lemmatization': 'no',\n",
       "  'stopwords_deletion': 'yes',\n",
       "  'emojis_processing': 'replace'},\n",
       " 23: {'punctuation_deletion': 'yes',\n",
       "  'lemmatization': 'no',\n",
       "  'stopwords_deletion': 'yes',\n",
       "  'emojis_processing': 'label'},\n",
       " 24: {'punctuation_deletion': 'yes',\n",
       "  'lemmatization': 'yes',\n",
       "  'stopwords_deletion': 'no',\n",
       "  'emojis_processing': 'no'},\n",
       " 25: {'punctuation_deletion': 'yes',\n",
       "  'lemmatization': 'yes',\n",
       "  'stopwords_deletion': 'no',\n",
       "  'emojis_processing': 'del'},\n",
       " 26: {'punctuation_deletion': 'yes',\n",
       "  'lemmatization': 'yes',\n",
       "  'stopwords_deletion': 'no',\n",
       "  'emojis_processing': 'replace'},\n",
       " 27: {'punctuation_deletion': 'yes',\n",
       "  'lemmatization': 'yes',\n",
       "  'stopwords_deletion': 'no',\n",
       "  'emojis_processing': 'label'},\n",
       " 28: {'punctuation_deletion': 'yes',\n",
       "  'lemmatization': 'yes',\n",
       "  'stopwords_deletion': 'yes',\n",
       "  'emojis_processing': 'no'},\n",
       " 29: {'punctuation_deletion': 'yes',\n",
       "  'lemmatization': 'yes',\n",
       "  'stopwords_deletion': 'yes',\n",
       "  'emojis_processing': 'del'},\n",
       " 30: {'punctuation_deletion': 'yes',\n",
       "  'lemmatization': 'yes',\n",
       "  'stopwords_deletion': 'yes',\n",
       "  'emojis_processing': 'replace'},\n",
       " 31: {'punctuation_deletion': 'yes',\n",
       "  'lemmatization': 'yes',\n",
       "  'stopwords_deletion': 'yes',\n",
       "  'emojis_processing': 'label'}}"
      ]
     },
     "execution_count": 29,
     "metadata": {},
     "output_type": "execute_result"
    }
   ],
   "source": [
    "meta = {}\n",
    "\n",
    "i = 0\n",
    "for punct in ['no', 'yes']:\n",
    "    for lem in ['no', 'yes']:\n",
    "        for stop in ['no', 'yes']:\n",
    "            for emo in ['no', 'del', 'replace', 'label']:\n",
    "                meta[i] = {'punctuation_deletion': punct,\n",
    "                           'lemmatization': lem,\n",
    "                           'stopwords_deletion': stop, \n",
    "                           'emojis_processing': emo}\n",
    "                i += 1\n",
    "                \n",
    "meta"
   ]
  },
  {
   "cell_type": "code",
   "execution_count": null,
   "metadata": {},
   "outputs": [],
   "source": [
    "with open('meta.json', 'w') as f:\n",
    "    json.dump(meta, f, ensure_ascii=False)"
   ]
  }
 ],
 "metadata": {
  "kernelspec": {
   "display_name": "Python 3",
   "language": "python",
   "name": "python3"
  },
  "language_info": {
   "codemirror_mode": {
    "name": "ipython",
    "version": 3
   },
   "file_extension": ".py",
   "mimetype": "text/x-python",
   "name": "python",
   "nbconvert_exporter": "python",
   "pygments_lexer": "ipython3",
   "version": "3.7.3"
  }
 },
 "nbformat": 4,
 "nbformat_minor": 2
}
