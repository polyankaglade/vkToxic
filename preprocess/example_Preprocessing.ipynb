{
 "cells": [
  {
   "cell_type": "code",
   "execution_count": 4,
   "metadata": {},
   "outputs": [
    {
     "name": "stdout",
     "output_type": "stream",
     "text": [
      "Collecting emoji\n",
      "  Downloading emoji-0.6.0.tar.gz (51 kB)\n",
      "Building wheels for collected packages: emoji\n",
      "  Building wheel for emoji (setup.py): started\n",
      "  Building wheel for emoji (setup.py): finished with status 'done'\n",
      "  Created wheel for emoji: filename=emoji-0.6.0-py3-none-any.whl size=49721 sha256=9cd96555cd3d6a03e39369b00b9deaa63abf0270852c953dc50c1a7999ca4125\n",
      "  Stored in directory: c:\\users\\user\\appdata\\local\\pip\\cache\\wheels\\4e\\bf\\6b\\2e22b3708d14bf6384f862db539b044d6931bd6b14ad3c9adc\n",
      "Successfully built emoji\n",
      "Installing collected packages: emoji\n",
      "Successfully installed emoji-0.6.0\n"
     ]
    }
   ],
   "source": [
    "# !python -m pip install emoji --upgrade"
   ]
  },
  {
   "cell_type": "code",
   "execution_count": 1,
   "metadata": {},
   "outputs": [],
   "source": [
    "import json\n",
    "from main import preprocess, make_meta\n",
    "from tokenization import tokenize\n",
    "from lemmatization import lemmatize"
   ]
  },
  {
   "cell_type": "code",
   "execution_count": 16,
   "metadata": {},
   "outputs": [
    {
     "data": {
      "text/plain": [
       "192"
      ]
     },
     "execution_count": 16,
     "metadata": {},
     "output_type": "execute_result"
    }
   ],
   "source": [
    "meta = make_meta()\n",
    "len(meta)"
   ]
  },
  {
   "cell_type": "markdown",
   "metadata": {},
   "source": [
    "Эксперименты (см. `evaluation`) показали, что наилучшим препроцессингом оказался следующий:"
   ]
  },
  {
   "cell_type": "code",
   "execution_count": 20,
   "metadata": {},
   "outputs": [
    {
     "data": {
      "text/plain": [
       "{'punctuation_deletion': 'no',\n",
       " 'ner_processing': 'replace',\n",
       " 'lemmatization': 'yes',\n",
       " 'stopwords_deletion': 'no',\n",
       " 'emojis_processing': 'no',\n",
       " 'vulgar_processing': 'yes'}"
      ]
     },
     "execution_count": 20,
     "metadata": {},
     "output_type": "execute_result"
    }
   ],
   "source": [
    "meta[81]"
   ]
  },
  {
   "cell_type": "markdown",
   "metadata": {},
   "source": [
    "### Пример использования на 1 вхождении"
   ]
  },
  {
   "cell_type": "code",
   "execution_count": 3,
   "metadata": {
    "scrolled": false
   },
   "outputs": [
    {
     "name": "stdout",
     "output_type": "stream",
     "text": [
      "username , какая у вас охёенная собака ! 😍 💤 😥\n",
      "username , какая у вас vulgar собака ! 😍 💤 😥\n",
      "username , какая у вас охёенная собака ! \n",
      "username , какая у вас vulgar собака !\n",
      "username , какая у вас охёенная собака ! emoji emoji emoji\n",
      "username , какая у вас vulgar собака ! emoji emoji emoji\n",
      "username , какая у вас охёенная собака ! pos_emoji neutral_emoji neg_emoji\n",
      "username , какая у вас vulgar собака ! pos_emoji neutral_emoji neg_emoji\n",
      "username , охёенная собака ! 😍 💤 😥\n",
      "username , vulgar собака ! 😍 💤 😥\n",
      "username , охёенная собака ! \n",
      "username , vulgar собака !\n",
      "username , охёенная собака ! emoji emoji emoji\n",
      "username , vulgar собака ! emoji emoji emoji\n",
      "username , охёенная собака ! pos_emoji neutral_emoji neg_emoji\n",
      "username , vulgar собака ! pos_emoji neutral_emoji neg_emoji\n",
      "username , какой у вы охёенный собака ! 😍 💤 😥\n",
      "username , какой у вы vulgar собака ! 😍 💤 😥\n",
      "username , какой у вы охёенный собака ! \n",
      "username , какой у вы vulgar собака !\n",
      "username , какой у вы охёенный собака ! emoji emoji emoji\n",
      "username , какой у вы vulgar собака ! emoji emoji emoji\n",
      "username , какой у вы охёенный собака ! pos_emoji neutral_emoji neg_emoji\n",
      "username , какой у вы vulgar собака ! pos_emoji neutral_emoji neg_emoji\n",
      "username , охёенный собака ! 😍 💤 😥\n",
      "username , vulgar собака ! 😍 💤 😥\n",
      "username , охёенный собака ! \n",
      "username , vulgar собака !\n",
      "username , охёенный собака ! emoji emoji emoji\n",
      "username , vulgar собака ! emoji emoji emoji\n",
      "username , охёенный собака ! pos_emoji neutral_emoji neg_emoji\n",
      "username , vulgar собака ! pos_emoji neutral_emoji neg_emoji\n",
      "username , какая у вас охёенная собака ! 😍 💤 😥\n",
      "username , какая у вас vulgar собака ! 😍 💤 😥\n",
      "username , какая у вас охёенная собака ! \n",
      "username , какая у вас vulgar собака !\n",
      "username , какая у вас охёенная собака ! emoji emoji emoji\n",
      "username , какая у вас vulgar собака ! emoji emoji emoji\n",
      "username , какая у вас охёенная собака ! pos_emoji neutral_emoji neg_emoji\n",
      "username , какая у вас vulgar собака ! pos_emoji neutral_emoji neg_emoji\n",
      "username , охёенная собака ! 😍 💤 😥\n",
      "username , vulgar собака ! 😍 💤 😥\n",
      "username , охёенная собака ! \n",
      "username , vulgar собака !\n",
      "username , охёенная собака ! emoji emoji emoji\n",
      "username , vulgar собака ! emoji emoji emoji\n",
      "username , охёенная собака ! pos_emoji neutral_emoji neg_emoji\n",
      "username , vulgar собака ! pos_emoji neutral_emoji neg_emoji\n",
      "username , какой у вы охёенный собака ! 😍 💤 😥\n",
      "username , какой у вы vulgar собака ! 😍 💤 😥\n",
      "username , какой у вы охёенный собака ! \n",
      "username , какой у вы vulgar собака !\n",
      "username , какой у вы охёенный собака ! emoji emoji emoji\n",
      "username , какой у вы vulgar собака ! emoji emoji emoji\n",
      "username , какой у вы охёенный собака ! pos_emoji neutral_emoji neg_emoji\n",
      "username , какой у вы vulgar собака ! pos_emoji neutral_emoji neg_emoji\n",
      "username , охёенный собака ! 😍 💤 😥\n",
      "username , vulgar собака ! 😍 💤 😥\n",
      "username , охёенный собака ! \n",
      "username , vulgar собака !\n",
      "username , охёенный собака ! emoji emoji emoji\n",
      "username , vulgar собака ! emoji emoji emoji\n",
      "username , охёенный собака ! pos_emoji neutral_emoji neg_emoji\n",
      "username , vulgar собака ! pos_emoji neutral_emoji neg_emoji\n",
      "username , какая у вас охёенная собака ! 😍 💤 😥\n",
      "username , какая у вас vulgar собака ! 😍 💤 😥\n",
      "username , какая у вас охёенная собака ! \n",
      "username , какая у вас vulgar собака !\n",
      "username , какая у вас охёенная собака ! emoji emoji emoji\n",
      "username , какая у вас vulgar собака ! emoji emoji emoji\n",
      "username , какая у вас охёенная собака ! pos_emoji neutral_emoji neg_emoji\n",
      "username , какая у вас vulgar собака ! pos_emoji neutral_emoji neg_emoji\n",
      "username , охёенная собака ! 😍 💤 😥\n",
      "username , vulgar собака ! 😍 💤 😥\n",
      "username , охёенная собака ! \n",
      "username , vulgar собака !\n",
      "username , охёенная собака ! emoji emoji emoji\n",
      "username , vulgar собака ! emoji emoji emoji\n",
      "username , охёенная собака ! pos_emoji neutral_emoji neg_emoji\n",
      "username , vulgar собака ! pos_emoji neutral_emoji neg_emoji\n",
      "username , какой у вы охёенный собака ! 😍 💤 😥\n",
      "username , какой у вы vulgar собака ! 😍 💤 😥\n",
      "username , какой у вы охёенный собака ! \n",
      "username , какой у вы vulgar собака !\n",
      "username , какой у вы охёенный собака ! emoji emoji emoji\n",
      "username , какой у вы vulgar собака ! emoji emoji emoji\n",
      "username , какой у вы охёенный собака ! pos_emoji neutral_emoji neg_emoji\n",
      "username , какой у вы vulgar собака ! pos_emoji neutral_emoji neg_emoji\n",
      "username , охёенный собака ! 😍 💤 😥\n",
      "username , vulgar собака ! 😍 💤 😥\n",
      "username , охёенный собака ! \n",
      "username , vulgar собака !\n",
      "username , охёенный собака ! emoji emoji emoji\n",
      "username , vulgar собака ! emoji emoji emoji\n",
      "username , охёенный собака ! pos_emoji neutral_emoji neg_emoji\n",
      "username , vulgar собака ! pos_emoji neutral_emoji neg_emoji\n",
      "username какая у вас охёенная собака 😍 💤 😥\n",
      "username какая у вас vulgar собака 😍 💤 😥\n",
      "username какая у вас охёенная собака \n",
      "username какая у вас vulgar собака\n",
      "username какая у вас охёенная собака emoji emoji emoji\n",
      "username какая у вас vulgar собака emoji emoji emoji\n",
      "username какая у вас охёенная собака pos_emoji neutral_emoji neg_emoji\n",
      "username какая у вас vulgar собака pos_emoji neutral_emoji neg_emoji\n",
      "username охёенная собака 😍 💤 😥\n",
      "username vulgar собака 😍 💤 😥\n",
      "username охёенная собака \n",
      "username vulgar собака\n",
      "username охёенная собака emoji emoji emoji\n",
      "username vulgar собака emoji emoji emoji\n",
      "username охёенная собака pos_emoji neutral_emoji neg_emoji\n",
      "username vulgar собака pos_emoji neutral_emoji neg_emoji\n",
      "username какой у вы охёенный собака 😍 💤 😥\n",
      "username какой у вы vulgar собака 😍 💤 😥\n",
      "username какой у вы охёенный собака \n",
      "username какой у вы vulgar собака\n",
      "username какой у вы охёенный собака emoji emoji emoji\n",
      "username какой у вы vulgar собака emoji emoji emoji\n",
      "username какой у вы охёенный собака pos_emoji neutral_emoji neg_emoji\n",
      "username какой у вы vulgar собака pos_emoji neutral_emoji neg_emoji\n",
      "username охёенный собака 😍 💤 😥\n",
      "username vulgar собака 😍 💤 😥\n",
      "username охёенный собака \n",
      "username vulgar собака\n",
      "username охёенный собака emoji emoji emoji\n",
      "username vulgar собака emoji emoji emoji\n",
      "username охёенный собака pos_emoji neutral_emoji neg_emoji\n",
      "username vulgar собака pos_emoji neutral_emoji neg_emoji\n",
      "username какая у вас охёенная собака 😍 💤 😥\n",
      "username какая у вас vulgar собака 😍 💤 😥\n",
      "username какая у вас охёенная собака \n",
      "username какая у вас vulgar собака\n",
      "username какая у вас охёенная собака emoji emoji emoji\n",
      "username какая у вас vulgar собака emoji emoji emoji\n",
      "username какая у вас охёенная собака pos_emoji neutral_emoji neg_emoji\n",
      "username какая у вас vulgar собака pos_emoji neutral_emoji neg_emoji\n",
      "username охёенная собака 😍 💤 😥\n",
      "username vulgar собака 😍 💤 😥\n",
      "username охёенная собака \n",
      "username vulgar собака\n",
      "username охёенная собака emoji emoji emoji\n",
      "username vulgar собака emoji emoji emoji\n",
      "username охёенная собака pos_emoji neutral_emoji neg_emoji\n",
      "username vulgar собака pos_emoji neutral_emoji neg_emoji\n",
      "username какой у вы охёенный собака 😍 💤 😥\n",
      "username какой у вы vulgar собака 😍 💤 😥\n",
      "username какой у вы охёенный собака \n",
      "username какой у вы vulgar собака\n",
      "username какой у вы охёенный собака emoji emoji emoji\n",
      "username какой у вы vulgar собака emoji emoji emoji\n",
      "username какой у вы охёенный собака pos_emoji neutral_emoji neg_emoji\n",
      "username какой у вы vulgar собака pos_emoji neutral_emoji neg_emoji\n",
      "username охёенный собака 😍 💤 😥\n",
      "username vulgar собака 😍 💤 😥\n",
      "username охёенный собака \n",
      "username vulgar собака\n",
      "username охёенный собака emoji emoji emoji\n",
      "username vulgar собака emoji emoji emoji\n",
      "username охёенный собака pos_emoji neutral_emoji neg_emoji\n",
      "username vulgar собака pos_emoji neutral_emoji neg_emoji\n",
      "username какая у вас охёенная собака 😍 💤 😥\n",
      "username какая у вас vulgar собака 😍 💤 😥\n",
      "username какая у вас охёенная собака \n",
      "username какая у вас vulgar собака\n",
      "username какая у вас охёенная собака emoji emoji emoji\n",
      "username какая у вас vulgar собака emoji emoji emoji\n",
      "username какая у вас охёенная собака pos_emoji neutral_emoji neg_emoji\n",
      "username какая у вас vulgar собака pos_emoji neutral_emoji neg_emoji\n",
      "username охёенная собака 😍 💤 😥\n",
      "username vulgar собака 😍 💤 😥\n",
      "username охёенная собака \n",
      "username vulgar собака\n",
      "username охёенная собака emoji emoji emoji\n",
      "username vulgar собака emoji emoji emoji\n",
      "username охёенная собака pos_emoji neutral_emoji neg_emoji\n",
      "username vulgar собака pos_emoji neutral_emoji neg_emoji\n",
      "username какой у вы охёенный собака 😍 💤 😥\n",
      "username какой у вы vulgar собака 😍 💤 😥\n",
      "username какой у вы охёенный собака \n",
      "username какой у вы vulgar собака\n",
      "username какой у вы охёенный собака emoji emoji emoji\n",
      "username какой у вы vulgar собака emoji emoji emoji\n",
      "username какой у вы охёенный собака pos_emoji neutral_emoji neg_emoji\n",
      "username какой у вы vulgar собака pos_emoji neutral_emoji neg_emoji\n",
      "username охёенный собака 😍 💤 😥\n",
      "username vulgar собака 😍 💤 😥\n",
      "username охёенный собака \n",
      "username vulgar собака\n",
      "username охёенный собака emoji emoji emoji\n",
      "username vulgar собака emoji emoji emoji\n",
      "username охёенный собака pos_emoji neutral_emoji neg_emoji\n",
      "username vulgar собака pos_emoji neutral_emoji neg_emoji\n"
     ]
    }
   ],
   "source": [
    "test = '[id00000|имя], какая у вас ох*енная собака! 😍💤😥'\n",
    "tok = tokenize(test)\n",
    "\n",
    "for i, params in meta.items():\n",
    "    print(preprocess(tok, params=params))"
   ]
  },
  {
   "cell_type": "markdown",
   "metadata": {},
   "source": [
    "## Пример использования на всех данных"
   ]
  },
  {
   "cell_type": "code",
   "execution_count": 4,
   "metadata": {},
   "outputs": [],
   "source": [
    "import pandas as pd\n",
    "from tqdm.auto import tqdm\n",
    "tqdm.pandas()"
   ]
  },
  {
   "cell_type": "code",
   "execution_count": 5,
   "metadata": {},
   "outputs": [],
   "source": [
    "from merge_df import table_to_dataframe"
   ]
  },
  {
   "cell_type": "code",
   "execution_count": 6,
   "metadata": {},
   "outputs": [
    {
     "data": {
      "text/plain": [
       "4669"
      ]
     },
     "execution_count": 6,
     "metadata": {},
     "output_type": "execute_result"
    }
   ],
   "source": [
    "filepath = '../Data/data.xlsx'\n",
    "raw_df = table_to_dataframe(filepath)\n",
    "raw_df.dropna(axis=0, how='any', inplace=True)\n",
    "raw_df.drop(columns=['index'], inplace=True)\n",
    "len(raw_df)"
   ]
  },
  {
   "cell_type": "code",
   "execution_count": 7,
   "metadata": {},
   "outputs": [
    {
     "data": {
      "text/plain": [
       "negative    491\n",
       "positive    410\n",
       "neutral     357\n",
       "speech      213\n",
       "Name: разметка, dtype: int64"
      ]
     },
     "execution_count": 7,
     "metadata": {},
     "output_type": "execute_result"
    }
   ],
   "source": [
    "df = raw_df[raw_df['разметка'] != 'skip'].copy()\n",
    "df['разметка'].value_counts()"
   ]
  },
  {
   "cell_type": "code",
   "execution_count": 8,
   "metadata": {},
   "outputs": [
    {
     "name": "stdout",
     "output_type": "stream",
     "text": [
      "итого вхождений: 1471\n"
     ]
    }
   ],
   "source": [
    "print('итого вхождений:', len(df))"
   ]
  },
  {
   "cell_type": "code",
   "execution_count": 9,
   "metadata": {},
   "outputs": [
    {
     "data": {
      "application/vnd.jupyter.widget-view+json": {
       "model_id": "6a366eb868a64c309898bbf788b813fe",
       "version_major": 2,
       "version_minor": 0
      },
      "text/plain": [
       "HBox(children=(HTML(value=''), FloatProgress(value=0.0, max=1471.0), HTML(value='')))"
      ]
     },
     "metadata": {},
     "output_type": "display_data"
    },
    {
     "name": "stdout",
     "output_type": "stream",
     "text": [
      "\n"
     ]
    },
    {
     "data": {
      "application/vnd.jupyter.widget-view+json": {
       "model_id": "c75b700bc24f492b85e226f9e0a8b511",
       "version_major": 2,
       "version_minor": 0
      },
      "text/plain": [
       "HBox(children=(HTML(value=''), FloatProgress(value=0.0, max=1471.0), HTML(value='')))"
      ]
     },
     "metadata": {},
     "output_type": "display_data"
    },
    {
     "name": "stdout",
     "output_type": "stream",
     "text": [
      "\n"
     ]
    }
   ],
   "source": [
    "df['tokenized'] = df['текст'].progress_apply(tokenize)\n",
    "df['lemmatized'] = df['tokenized'].progress_apply(lemmatize)"
   ]
  },
  {
   "cell_type": "code",
   "execution_count": 10,
   "metadata": {},
   "outputs": [
    {
     "data": {
      "text/html": [
       "<div>\n",
       "<style scoped>\n",
       "    .dataframe tbody tr th:only-of-type {\n",
       "        vertical-align: middle;\n",
       "    }\n",
       "\n",
       "    .dataframe tbody tr th {\n",
       "        vertical-align: top;\n",
       "    }\n",
       "\n",
       "    .dataframe thead th {\n",
       "        text-align: right;\n",
       "    }\n",
       "</style>\n",
       "<table border=\"1\" class=\"dataframe\">\n",
       "  <thead>\n",
       "    <tr style=\"text-align: right;\">\n",
       "      <th></th>\n",
       "      <th>разметка</th>\n",
       "      <th>текст</th>\n",
       "      <th>контекст</th>\n",
       "      <th>community_id</th>\n",
       "      <th>community_type</th>\n",
       "      <th>tokenized</th>\n",
       "      <th>lemmatized</th>\n",
       "    </tr>\n",
       "  </thead>\n",
       "  <tbody>\n",
       "    <tr>\n",
       "      <th>0</th>\n",
       "      <td>speech</td>\n",
       "      <td>Спасибо!</td>\n",
       "      <td>post</td>\n",
       "      <td>1</td>\n",
       "      <td>nontoxic</td>\n",
       "      <td>спасибо !</td>\n",
       "      <td>спасибо !</td>\n",
       "    </tr>\n",
       "    <tr>\n",
       "      <th>1</th>\n",
       "      <td>speech</td>\n",
       "      <td>вау спасибо большое!!</td>\n",
       "      <td>post</td>\n",
       "      <td>1</td>\n",
       "      <td>nontoxic</td>\n",
       "      <td>вау спасибо большое ! !</td>\n",
       "      <td>вау спасибо большой ! !</td>\n",
       "    </tr>\n",
       "    <tr>\n",
       "      <th>2</th>\n",
       "      <td>speech</td>\n",
       "      <td>Супер! Благодарю🙏</td>\n",
       "      <td>post</td>\n",
       "      <td>1</td>\n",
       "      <td>nontoxic</td>\n",
       "      <td>супер ! благодарю 🙏</td>\n",
       "      <td>супер ! благодарить 🙏</td>\n",
       "    </tr>\n",
       "    <tr>\n",
       "      <th>3</th>\n",
       "      <td>speech</td>\n",
       "      <td>офигеть, спасибо!</td>\n",
       "      <td>post</td>\n",
       "      <td>1</td>\n",
       "      <td>nontoxic</td>\n",
       "      <td>офигеть , спасибо !</td>\n",
       "      <td>офигеть , спасибо !</td>\n",
       "    </tr>\n",
       "    <tr>\n",
       "      <th>4</th>\n",
       "      <td>speech</td>\n",
       "      <td>спасибо за проделанную работу 💙</td>\n",
       "      <td>post</td>\n",
       "      <td>1</td>\n",
       "      <td>nontoxic</td>\n",
       "      <td>спасибо за проделанную работу 💙</td>\n",
       "      <td>спасибо за проделать работа 💙</td>\n",
       "    </tr>\n",
       "  </tbody>\n",
       "</table>\n",
       "</div>"
      ],
      "text/plain": [
       "  разметка                            текст контекст  community_id  \\\n",
       "0   speech                         Спасибо!     post             1   \n",
       "1   speech            вау спасибо большое!!     post             1   \n",
       "2   speech                Супер! Благодарю🙏     post             1   \n",
       "3   speech                офигеть, спасибо!     post             1   \n",
       "4   speech  спасибо за проделанную работу 💙     post             1   \n",
       "\n",
       "  community_type                        tokenized  \\\n",
       "0       nontoxic                        спасибо !   \n",
       "1       nontoxic          вау спасибо большое ! !   \n",
       "2       nontoxic              супер ! благодарю 🙏   \n",
       "3       nontoxic              офигеть , спасибо !   \n",
       "4       nontoxic  спасибо за проделанную работу 💙   \n",
       "\n",
       "                      lemmatized  \n",
       "0                      спасибо !  \n",
       "1        вау спасибо большой ! !  \n",
       "2          супер ! благодарить 🙏  \n",
       "3            офигеть , спасибо !  \n",
       "4  спасибо за проделать работа 💙  "
      ]
     },
     "execution_count": 10,
     "metadata": {},
     "output_type": "execute_result"
    }
   ],
   "source": [
    "df.head()"
   ]
  },
  {
   "cell_type": "markdown",
   "metadata": {},
   "source": [
    "Для ускорения я сначала все лемматизирую. В итоговом датасете порядок выполнения операций как и написан в `main.py`"
   ]
  },
  {
   "cell_type": "code",
   "execution_count": 11,
   "metadata": {},
   "outputs": [
    {
     "data": {
      "application/vnd.jupyter.widget-view+json": {
       "model_id": "3f82733fc02c4268bb800b2c007e15ed",
       "version_major": 2,
       "version_minor": 0
      },
      "text/plain": [
       "HBox(children=(HTML(value=''), FloatProgress(value=0.0, max=192.0), HTML(value='')))"
      ]
     },
     "metadata": {},
     "output_type": "display_data"
    },
    {
     "name": "stdout",
     "output_type": "stream",
     "text": [
      "\n"
     ]
    }
   ],
   "source": [
    "for i, params in tqdm(meta.items()):\n",
    "    if params['lemmatization'] == 'no':\n",
    "        df[i] = [preprocess(tok, params=params) for tok in df['tokenized']]\n",
    "    if params['lemmatization'] == 'yes':\n",
    "        params['lemmatization'] = 'no'\n",
    "        df[i] = [preprocess(tok, params=params) for tok in df['lemmatized']]"
   ]
  },
  {
   "cell_type": "code",
   "execution_count": 13,
   "metadata": {},
   "outputs": [
    {
     "data": {
      "text/html": [
       "<div>\n",
       "<style scoped>\n",
       "    .dataframe tbody tr th:only-of-type {\n",
       "        vertical-align: middle;\n",
       "    }\n",
       "\n",
       "    .dataframe tbody tr th {\n",
       "        vertical-align: top;\n",
       "    }\n",
       "\n",
       "    .dataframe thead th {\n",
       "        text-align: right;\n",
       "    }\n",
       "</style>\n",
       "<table border=\"1\" class=\"dataframe\">\n",
       "  <thead>\n",
       "    <tr style=\"text-align: right;\">\n",
       "      <th></th>\n",
       "      <th>разметка</th>\n",
       "      <th>текст</th>\n",
       "      <th>контекст</th>\n",
       "      <th>community_id</th>\n",
       "      <th>community_type</th>\n",
       "      <th>tokenized</th>\n",
       "      <th>lemmatized</th>\n",
       "      <th>0</th>\n",
       "      <th>1</th>\n",
       "      <th>2</th>\n",
       "      <th>...</th>\n",
       "      <th>182</th>\n",
       "      <th>183</th>\n",
       "      <th>184</th>\n",
       "      <th>185</th>\n",
       "      <th>186</th>\n",
       "      <th>187</th>\n",
       "      <th>188</th>\n",
       "      <th>189</th>\n",
       "      <th>190</th>\n",
       "      <th>191</th>\n",
       "    </tr>\n",
       "  </thead>\n",
       "  <tbody>\n",
       "    <tr>\n",
       "      <th>4790</th>\n",
       "      <td>negative</td>\n",
       "      <td>хуёвый ты друг</td>\n",
       "      <td>я обычно такому сходу в ебало даю и дальше про...</td>\n",
       "      <td>3</td>\n",
       "      <td>toxic</td>\n",
       "      <td>хуевый ты друг</td>\n",
       "      <td>хуевыя ты друг</td>\n",
       "      <td>хуевый ты друг</td>\n",
       "      <td>vulgar ты друг</td>\n",
       "      <td>хуевый ты друг</td>\n",
       "      <td>...</td>\n",
       "      <td>хуевыя ты друг</td>\n",
       "      <td>хуевыя ты друг</td>\n",
       "      <td>хуевыя друг</td>\n",
       "      <td>хуевыя друг</td>\n",
       "      <td>хуевыя друг</td>\n",
       "      <td>хуевыя друг</td>\n",
       "      <td>хуевыя друг</td>\n",
       "      <td>хуевыя друг</td>\n",
       "      <td>хуевыя друг</td>\n",
       "      <td>хуевыя друг</td>\n",
       "    </tr>\n",
       "    <tr>\n",
       "      <th>4619</th>\n",
       "      <td>negative</td>\n",
       "      <td>[id60624256|Алексей], а я тебе советую меньше ...</td>\n",
       "      <td>[id24019984|Иван], я бы тебе посоветовал вмест...</td>\n",
       "      <td>3</td>\n",
       "      <td>toxic</td>\n",
       "      <td>username , а я тебе советую меньше леше яйца л...</td>\n",
       "      <td>username , а я ты советовать маленький лёша яй...</td>\n",
       "      <td>username , а я тебе советую меньше леше яйца л...</td>\n",
       "      <td>username , а я тебе советую меньше леше яйца л...</td>\n",
       "      <td>username , а я тебе советую меньше леше яйца л...</td>\n",
       "      <td>...</td>\n",
       "      <td>username а я ты советовать маленький лёша яйцо...</td>\n",
       "      <td>username а я ты советовать маленький vulgar яй...</td>\n",
       "      <td>username советовать маленький лёша яйцо лизать</td>\n",
       "      <td>username советовать маленький vulgar яйцо лизать</td>\n",
       "      <td>username советовать маленький лёша яйцо лизать</td>\n",
       "      <td>username советовать маленький vulgar яйцо лизать</td>\n",
       "      <td>username советовать маленький лёша яйцо лизать</td>\n",
       "      <td>username советовать маленький vulgar яйцо лизать</td>\n",
       "      <td>username советовать маленький лёша яйцо лизать</td>\n",
       "      <td>username советовать маленький vulgar яйцо лизать</td>\n",
       "    </tr>\n",
       "    <tr>\n",
       "      <th>3444</th>\n",
       "      <td>negative</td>\n",
       "      <td>не матерись. тебя бомжи что ли воспитывали?</td>\n",
       "      <td>[id96091477|Игорь], ты выдумка, бот, пошел нах...</td>\n",
       "      <td>3</td>\n",
       "      <td>toxic</td>\n",
       "      <td>не матерись . тебя бомжи что ли воспитывали ?</td>\n",
       "      <td>не материться . ты бомж что ли воспитывать ?</td>\n",
       "      <td>не матерись . тебя бомжи что ли воспитывали ?</td>\n",
       "      <td>не матерись . тебя бомжи что ли воспитывали ?</td>\n",
       "      <td>не матерись . тебя бомжи что ли воспитывали ?</td>\n",
       "      <td>...</td>\n",
       "      <td>не материться ты бомж что ли воспитывать</td>\n",
       "      <td>не материться ты бомж что ли воспитывать</td>\n",
       "      <td>материться бомж воспитывать</td>\n",
       "      <td>материться бомж воспитывать</td>\n",
       "      <td>материться бомж воспитывать</td>\n",
       "      <td>материться бомж воспитывать</td>\n",
       "      <td>материться бомж воспитывать</td>\n",
       "      <td>материться бомж воспитывать</td>\n",
       "      <td>материться бомж воспитывать</td>\n",
       "      <td>материться бомж воспитывать</td>\n",
       "    </tr>\n",
       "    <tr>\n",
       "      <th>1029</th>\n",
       "      <td>neutral</td>\n",
       "      <td>Он на Поперечного чем-то похож</td>\n",
       "      <td>post</td>\n",
       "      <td>2</td>\n",
       "      <td>nontoxic</td>\n",
       "      <td>он на поперечного чем-то похож</td>\n",
       "      <td>он на поперечный что-то похожий</td>\n",
       "      <td>он на поперечного чем-то похож</td>\n",
       "      <td>он на поперечного чем-то похож</td>\n",
       "      <td>он на поперечного чем-то похож</td>\n",
       "      <td>...</td>\n",
       "      <td>он на поперечный что-то похожий</td>\n",
       "      <td>он на поперечный что-то похожий</td>\n",
       "      <td>поперечный похожий</td>\n",
       "      <td>поперечный похожий</td>\n",
       "      <td>поперечный похожий</td>\n",
       "      <td>поперечный похожий</td>\n",
       "      <td>поперечный похожий</td>\n",
       "      <td>поперечный похожий</td>\n",
       "      <td>поперечный похожий</td>\n",
       "      <td>поперечный похожий</td>\n",
       "    </tr>\n",
       "    <tr>\n",
       "      <th>7004</th>\n",
       "      <td>positive</td>\n",
       "      <td>[id43340308|Иван], 😆😆😆😆</td>\n",
       "      <td>[id160622183|Альгиз], так скольки раз там пида...</td>\n",
       "      <td>4</td>\n",
       "      <td>toxic</td>\n",
       "      <td>username , 😆 😆 😆 😆</td>\n",
       "      <td>username , 😆 😆 😆 😆</td>\n",
       "      <td>username , 😆 😆 😆 😆</td>\n",
       "      <td>username , 😆 😆 😆 😆</td>\n",
       "      <td>username ,</td>\n",
       "      <td>...</td>\n",
       "      <td>username pos_emoji pos_emoji pos_emoji pos_emoji</td>\n",
       "      <td>username pos_emoji pos_emoji pos_emoji pos_emoji</td>\n",
       "      <td>username 😆 😆 😆 😆</td>\n",
       "      <td>username 😆 😆 😆 😆</td>\n",
       "      <td>username</td>\n",
       "      <td>username</td>\n",
       "      <td>username emoji emoji emoji emoji</td>\n",
       "      <td>username emoji emoji emoji emoji</td>\n",
       "      <td>username pos_emoji pos_emoji pos_emoji pos_emoji</td>\n",
       "      <td>username pos_emoji pos_emoji pos_emoji pos_emoji</td>\n",
       "    </tr>\n",
       "  </tbody>\n",
       "</table>\n",
       "<p>5 rows × 199 columns</p>\n",
       "</div>"
      ],
      "text/plain": [
       "      разметка                                              текст  \\\n",
       "4790  negative                                     хуёвый ты друг   \n",
       "4619  negative  [id60624256|Алексей], а я тебе советую меньше ...   \n",
       "3444  negative        не матерись. тебя бомжи что ли воспитывали?   \n",
       "1029   neutral                     Он на Поперечного чем-то похож   \n",
       "7004  positive                            [id43340308|Иван], 😆😆😆😆   \n",
       "\n",
       "                                               контекст  community_id  \\\n",
       "4790  я обычно такому сходу в ебало даю и дальше про...             3   \n",
       "4619  [id24019984|Иван], я бы тебе посоветовал вмест...             3   \n",
       "3444  [id96091477|Игорь], ты выдумка, бот, пошел нах...             3   \n",
       "1029                                               post             2   \n",
       "7004  [id160622183|Альгиз], так скольки раз там пида...             4   \n",
       "\n",
       "     community_type                                          tokenized  \\\n",
       "4790          toxic                                     хуевый ты друг   \n",
       "4619          toxic  username , а я тебе советую меньше леше яйца л...   \n",
       "3444          toxic      не матерись . тебя бомжи что ли воспитывали ?   \n",
       "1029       nontoxic                     он на поперечного чем-то похож   \n",
       "7004          toxic                                 username , 😆 😆 😆 😆   \n",
       "\n",
       "                                             lemmatized  \\\n",
       "4790                                     хуевыя ты друг   \n",
       "4619  username , а я ты советовать маленький лёша яй...   \n",
       "3444       не материться . ты бомж что ли воспитывать ?   \n",
       "1029                    он на поперечный что-то похожий   \n",
       "7004                                 username , 😆 😆 😆 😆   \n",
       "\n",
       "                                                      0  \\\n",
       "4790                                     хуевый ты друг   \n",
       "4619  username , а я тебе советую меньше леше яйца л...   \n",
       "3444      не матерись . тебя бомжи что ли воспитывали ?   \n",
       "1029                     он на поперечного чем-то похож   \n",
       "7004                                 username , 😆 😆 😆 😆   \n",
       "\n",
       "                                                      1  \\\n",
       "4790                                     vulgar ты друг   \n",
       "4619  username , а я тебе советую меньше леше яйца л...   \n",
       "3444      не матерись . тебя бомжи что ли воспитывали ?   \n",
       "1029                     он на поперечного чем-то похож   \n",
       "7004                                 username , 😆 😆 😆 😆   \n",
       "\n",
       "                                                      2  ...  \\\n",
       "4790                                     хуевый ты друг  ...   \n",
       "4619  username , а я тебе советую меньше леше яйца л...  ...   \n",
       "3444      не матерись . тебя бомжи что ли воспитывали ?  ...   \n",
       "1029                     он на поперечного чем-то похож  ...   \n",
       "7004                                        username ,   ...   \n",
       "\n",
       "                                                    182  \\\n",
       "4790                                     хуевыя ты друг   \n",
       "4619  username а я ты советовать маленький лёша яйцо...   \n",
       "3444           не материться ты бомж что ли воспитывать   \n",
       "1029                    он на поперечный что-то похожий   \n",
       "7004   username pos_emoji pos_emoji pos_emoji pos_emoji   \n",
       "\n",
       "                                                    183  \\\n",
       "4790                                     хуевыя ты друг   \n",
       "4619  username а я ты советовать маленький vulgar яй...   \n",
       "3444           не материться ты бомж что ли воспитывать   \n",
       "1029                    он на поперечный что-то похожий   \n",
       "7004   username pos_emoji pos_emoji pos_emoji pos_emoji   \n",
       "\n",
       "                                                 184  \\\n",
       "4790                                     хуевыя друг   \n",
       "4619  username советовать маленький лёша яйцо лизать   \n",
       "3444                     материться бомж воспитывать   \n",
       "1029                              поперечный похожий   \n",
       "7004                                username 😆 😆 😆 😆   \n",
       "\n",
       "                                                   185  \\\n",
       "4790                                       хуевыя друг   \n",
       "4619  username советовать маленький vulgar яйцо лизать   \n",
       "3444                       материться бомж воспитывать   \n",
       "1029                                поперечный похожий   \n",
       "7004                                  username 😆 😆 😆 😆   \n",
       "\n",
       "                                                 186  \\\n",
       "4790                                     хуевыя друг   \n",
       "4619  username советовать маленький лёша яйцо лизать   \n",
       "3444                     материться бомж воспитывать   \n",
       "1029                              поперечный похожий   \n",
       "7004                                       username    \n",
       "\n",
       "                                                   187  \\\n",
       "4790                                       хуевыя друг   \n",
       "4619  username советовать маленький vulgar яйцо лизать   \n",
       "3444                       материться бомж воспитывать   \n",
       "1029                                поперечный похожий   \n",
       "7004                                          username   \n",
       "\n",
       "                                                 188  \\\n",
       "4790                                     хуевыя друг   \n",
       "4619  username советовать маленький лёша яйцо лизать   \n",
       "3444                     материться бомж воспитывать   \n",
       "1029                              поперечный похожий   \n",
       "7004                username emoji emoji emoji emoji   \n",
       "\n",
       "                                                   189  \\\n",
       "4790                                       хуевыя друг   \n",
       "4619  username советовать маленький vulgar яйцо лизать   \n",
       "3444                       материться бомж воспитывать   \n",
       "1029                                поперечный похожий   \n",
       "7004                  username emoji emoji emoji emoji   \n",
       "\n",
       "                                                   190  \\\n",
       "4790                                       хуевыя друг   \n",
       "4619    username советовать маленький лёша яйцо лизать   \n",
       "3444                       материться бомж воспитывать   \n",
       "1029                                поперечный похожий   \n",
       "7004  username pos_emoji pos_emoji pos_emoji pos_emoji   \n",
       "\n",
       "                                                   191  \n",
       "4790                                       хуевыя друг  \n",
       "4619  username советовать маленький vulgar яйцо лизать  \n",
       "3444                       материться бомж воспитывать  \n",
       "1029                                поперечный похожий  \n",
       "7004  username pos_emoji pos_emoji pos_emoji pos_emoji  \n",
       "\n",
       "[5 rows x 199 columns]"
      ]
     },
     "execution_count": 13,
     "metadata": {},
     "output_type": "execute_result"
    }
   ],
   "source": [
    "df.sample(5)"
   ]
  },
  {
   "cell_type": "code",
   "execution_count": 19,
   "metadata": {},
   "outputs": [],
   "source": [
    "df.to_csv('../Data/data_preprocessed.tsv', sep='\\t')"
   ]
  },
  {
   "cell_type": "markdown",
   "metadata": {},
   "source": [
    "### Внимание: в датасете моугт быть пустые ячейки!\n",
    "\n",
    "Откуда? Они возникают в вариантах препроцессинга, где используется удаление стоп-слов и/или удаление эмоджи (например, когда комментарий изначально состоял только из эмоджи).\n",
    "\n",
    "Как с этим бороться:\n",
    "```python\n",
    "df.fillna('none',  inplace=True)\n",
    "assert data.isnull().values.any() == False\n",
    "```"
   ]
  },
  {
   "cell_type": "markdown",
   "metadata": {},
   "source": [
    "Если нужно поменять опции то допишите дополнительные циклы main.py"
   ]
  }
 ],
 "metadata": {
  "kernelspec": {
   "display_name": "Python 3",
   "language": "python",
   "name": "python3"
  },
  "language_info": {
   "codemirror_mode": {
    "name": "ipython",
    "version": 3
   },
   "file_extension": ".py",
   "mimetype": "text/x-python",
   "name": "python",
   "nbconvert_exporter": "python",
   "pygments_lexer": "ipython3",
   "version": "3.7.3"
  }
 },
 "nbformat": 4,
 "nbformat_minor": 2
}
