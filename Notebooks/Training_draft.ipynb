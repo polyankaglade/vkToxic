{
 "cells": [
  {
   "cell_type": "markdown",
   "metadata": {},
   "source": [
    "# Данные"
   ]
  },
  {
   "cell_type": "code",
   "execution_count": 11,
   "metadata": {},
   "outputs": [],
   "source": [
    "import pandas as pd"
   ]
  },
  {
   "cell_type": "code",
   "execution_count": 7,
   "metadata": {},
   "outputs": [],
   "source": [
    "def load_raw_data(smth):\n",
    "    ... # Лиза \n",
    "    return df # (group_name - group_class - comment - class)"
   ]
  },
  {
   "cell_type": "code",
   "execution_count": null,
   "metadata": {},
   "outputs": [],
   "source": [
    "def func(token_string): # 'автор , у вас ох*енная собака ! ! ! 😻 😻'\n",
    "    ...\n",
    "    return \" \".join(token_list) # 'автор у вас ох*енная собака'"
   ]
  },
  {
   "cell_type": "code",
   "execution_count": 8,
   "metadata": {},
   "outputs": [],
   "source": [
    "def process_raw_data(df):\n",
    "    df['raw_comment'] = df['raw'] + ' ' + df['context']\n",
    "    for c in ['raw', 'raw_comment']:\n",
    "        ... # все единицы токенами через пробелы, ловеркейс # общее\n",
    "        ... # 3 эмоджи: ничего, заменить на классовые плейсхолдеры, заменить на общий плейсхолдер # поляна\n",
    "        ... # 3 мат: ничего, нормализовать до словарных форм, заменить на плейсхолдер # алина\n",
    "        ... # 2 пунктуация: да/нет # поляна\n",
    "        ... # 2 лемматиация: да/нет # общее\n",
    "        ... # 3 ИмСущ: удалять, оставлять, заменить на плейсхолдер # лиза\n",
    "    return df # (324 варианта)"
   ]
  },
  {
   "cell_type": "code",
   "execution_count": 12,
   "metadata": {},
   "outputs": [],
   "source": [
    "def save_data(filepath, df):\n",
    "    df.to_csv(filepath, sep='\\t')\n",
    "    print(f'df saved at {filepath}')\n",
    "    pass\n",
    "\n",
    "def load_data(filepath):\n",
    "    df = pd.read_csv(filepath, index_col=0, sep='\\t')\n",
    "    print(f'df loaded from {filepath}')\n",
    "    return df"
   ]
  },
  {
   "cell_type": "code",
   "execution_count": null,
   "metadata": {},
   "outputs": [],
   "source": [
    "raw_data_df = load_raw_data(smth)\n",
    "data_df = process_raw_data(raw_data_df)\n",
    "save_data(data_df, 'data.tsv')"
   ]
  },
  {
   "cell_type": "code",
   "execution_count": 13,
   "metadata": {},
   "outputs": [],
   "source": [
    "def transform_data(df, transformer='tf-idf'):\n",
    "    y = df.pop('class')\n",
    "    ... #tf-idf\n",
    "    ... # собственные признаки\n",
    "    return X, y"
   ]
  },
  {
   "cell_type": "code",
   "execution_count": null,
   "metadata": {},
   "outputs": [],
   "source": [
    "data = load_data('data.tsv')\n",
    "X, y = transform_data(data)\n",
    "X.shape"
   ]
  },
  {
   "cell_type": "markdown",
   "metadata": {},
   "source": [
    "# Модели"
   ]
  },
  {
   "cell_type": "code",
   "execution_count": 15,
   "metadata": {},
   "outputs": [],
   "source": [
    "from sklearn.metrics import classification_report\n",
    "from sklearn.model_selection import train_test_split\n",
    "\n",
    "from sklearn.linear_model import LogisticRegression\n",
    "from sklearn.ensemble import RandomForestClassifier\n",
    "from sklearn.naive_bayes import MultinomialNB\n",
    "\n",
    "SEED = 42"
   ]
  },
  {
   "cell_type": "code",
   "execution_count": null,
   "metadata": {},
   "outputs": [],
   "source": [
    "x_train, x_test, y_train, y_test = train_test_split(X, y, test_size=0.3, random_state=SEED, stratify=y)"
   ]
  },
  {
   "cell_type": "code",
   "execution_count": 3,
   "metadata": {},
   "outputs": [],
   "source": [
    "def fit_pred(X_train, X_test, y_train, y_test, clf=None):\n",
    "    clf.fit(X_train, y_train)\n",
    "    pred = clf.predict(X_test)\n",
    "    report = classification_report(y_test, pred)\n",
    "    print(report)\n",
    "    return pred, report"
   ]
  },
  {
   "cell_type": "code",
   "execution_count": 23,
   "metadata": {},
   "outputs": [],
   "source": [
    "def grid_pred(X_train, X_test, y_train, y_test, clf=None, params={}):\n",
    "    grid = GridSearchCV(clf, params)\n",
    "    grid.fit(X_train, y_train)\n",
    "    print(grid.best_params_)\n",
    "    \n",
    "    best = g_forest.best_estimator_\n",
    "    \n",
    "    # pred, report = fit_pred(X_train, X_test, y_train, y_test, clf=best)\n",
    "    \n",
    "    best.fit(X_train, y_train)\n",
    "    pred = best.predict(X_test)\n",
    "    report = classification_report(y_test, pred)\n",
    "    print(report)\n",
    "    \n",
    "    return best, pred, report"
   ]
  },
  {
   "cell_type": "code",
   "execution_count": 17,
   "metadata": {},
   "outputs": [],
   "source": [
    "clf_logreg = LogisticRegression(random_state=SEED, solver='liblinear')\n",
    "clf_forest = RandomForestClassifier(random_state=SEED)\n",
    "clf_bayes = MultinomialNB()\n",
    "\n",
    "clfs = {'logreg': {'model': clf_logreg, 'pred': [], 'report': {}}, \n",
    "        'forest': {'model': clf_forest, 'pred': [], 'report': {}}, \n",
    "        'bayes':  {'model': clf_bayes,  'pred': [], 'report': {}},\n",
    "       }"
   ]
  },
  {
   "cell_type": "code",
   "execution_count": null,
   "metadata": {},
   "outputs": [],
   "source": [
    "for clf in clfs:\n",
    "    model = clf['model']\n",
    "    pred, report = fit_pred(X_train, X_test, y_train, y_test, clf=model)\n",
    "    clfs[clf]['pred'] = pred\n",
    "    clfs[clf]['report'] = report"
   ]
  },
  {
   "cell_type": "markdown",
   "metadata": {},
   "source": [
    "# Итоговый пайплайн"
   ]
  },
  {
   "cell_type": "code",
   "execution_count": 10,
   "metadata": {},
   "outputs": [],
   "source": [
    "from sklearn.pipeline import Pipeline"
   ]
  },
  {
   "cell_type": "code",
   "execution_count": null,
   "metadata": {},
   "outputs": [],
   "source": [
    "# text_clf = Pipeline([('vect', CountVectorizer(ngram_range = (2,3))), \n",
    "#                      ('tfidf', TfidfTransformer()), \n",
    "#                      ('clf', MultinomialNB())])"
   ]
  }
 ],
 "metadata": {
  "kernelspec": {
   "display_name": "Python 3",
   "language": "python",
   "name": "python3"
  },
  "language_info": {
   "codemirror_mode": {
    "name": "ipython",
    "version": 3
   },
   "file_extension": ".py",
   "mimetype": "text/x-python",
   "name": "python",
   "nbconvert_exporter": "python",
   "pygments_lexer": "ipython3",
   "version": "3.7.3"
  }
 },
 "nbformat": 4,
 "nbformat_minor": 2
}
